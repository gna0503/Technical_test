{
 "cells": [
  {
   "cell_type": "markdown",
   "metadata": {
    "tags": []
   },
   "source": [
    "# Input Data Inspection/Validation and Transform"
   ]
  },
  {
   "cell_type": "code",
   "execution_count": 43,
   "metadata": {
    "tags": []
   },
   "outputs": [],
   "source": [
    "import os\n",
    "import pandas as pd\n",
    "import numpy\n",
    "from datetime import datetime, timedelta\n",
    "#import great_expectations as ge"
   ]
  },
  {
   "cell_type": "markdown",
   "metadata": {},
   "source": [
    "## Read all csv files and concat into a dataframe."
   ]
  },
  {
   "cell_type": "code",
   "execution_count": 2,
   "metadata": {},
   "outputs": [
    {
     "name": "stdout",
     "output_type": "stream",
     "text": [
      "['NMIA3', 'NMIA2', 'NMIM1', 'NMIA1', 'NMIS3', 'NMIS2', 'NMIK4', 'NMIS1', 'NMIR1', 'NMIG1', 'NMIR2', 'NMIG2']\n"
     ]
    },
    {
     "data": {
      "text/plain": [
       "12"
      ]
     },
     "execution_count": 2,
     "metadata": {},
     "output_type": "execute_result"
    }
   ],
   "source": [
    "# Get csv file name in ConsumptionData folder\n",
    "path = \"Data/ConsumptionData/\"\n",
    "file_list = os.listdir(path)\n",
    "name_list = []\n",
    "for filename in file_list:\n",
    "    #print(filename)\n",
    "    if filename.endswith(\".csv\"):\n",
    "        #table_list.append(pd.read_csv(filename,sep=\"|\"))\n",
    "        name_list.append(os.path.splitext(filename)[0])\n",
    "print(name_list)\n",
    "len(name_list)"
   ]
  },
  {
   "cell_type": "code",
   "execution_count": 3,
   "metadata": {},
   "outputs": [
    {
     "data": {
      "text/html": [
       "<div>\n",
       "<style scoped>\n",
       "    .dataframe tbody tr th:only-of-type {\n",
       "        vertical-align: middle;\n",
       "    }\n",
       "\n",
       "    .dataframe tbody tr th {\n",
       "        vertical-align: top;\n",
       "    }\n",
       "\n",
       "    .dataframe thead th {\n",
       "        text-align: right;\n",
       "    }\n",
       "</style>\n",
       "<table border=\"1\" class=\"dataframe\">\n",
       "  <thead>\n",
       "    <tr style=\"text-align: right;\">\n",
       "      <th></th>\n",
       "      <th>Nmi</th>\n",
       "      <th>State</th>\n",
       "      <th>Interval</th>\n",
       "    </tr>\n",
       "  </thead>\n",
       "  <tbody>\n",
       "    <tr>\n",
       "      <th>0</th>\n",
       "      <td>NMIM1</td>\n",
       "      <td>QLD</td>\n",
       "      <td>30.0</td>\n",
       "    </tr>\n",
       "    <tr>\n",
       "      <th>1</th>\n",
       "      <td>NMIS2</td>\n",
       "      <td>NSW</td>\n",
       "      <td>30.0</td>\n",
       "    </tr>\n",
       "    <tr>\n",
       "      <th>2</th>\n",
       "      <td>NMIS3</td>\n",
       "      <td>NSW</td>\n",
       "      <td>30.0</td>\n",
       "    </tr>\n",
       "    <tr>\n",
       "      <th>3</th>\n",
       "      <td>NMIA2</td>\n",
       "      <td>VIC</td>\n",
       "      <td>15.0</td>\n",
       "    </tr>\n",
       "    <tr>\n",
       "      <th>4</th>\n",
       "      <td>NMIA1</td>\n",
       "      <td>VIC</td>\n",
       "      <td>15.0</td>\n",
       "    </tr>\n",
       "  </tbody>\n",
       "</table>\n",
       "</div>"
      ],
      "text/plain": [
       "     Nmi State  Interval\n",
       "0  NMIM1   QLD      30.0\n",
       "1  NMIS2   NSW      30.0\n",
       "2  NMIS3   NSW      30.0\n",
       "3  NMIA2   VIC      15.0\n",
       "4  NMIA1   VIC      15.0"
      ]
     },
     "execution_count": 3,
     "metadata": {},
     "output_type": "execute_result"
    }
   ],
   "source": [
    "nmi_info = pd.read_csv(\"Data/nmi_info.csv\")\n",
    "nmi_info.head()"
   ]
  },
  {
   "cell_type": "code",
   "execution_count": 4,
   "metadata": {},
   "outputs": [
    {
     "data": {
      "text/html": [
       "<div>\n",
       "<style scoped>\n",
       "    .dataframe tbody tr th:only-of-type {\n",
       "        vertical-align: middle;\n",
       "    }\n",
       "\n",
       "    .dataframe tbody tr th {\n",
       "        vertical-align: top;\n",
       "    }\n",
       "\n",
       "    .dataframe thead th {\n",
       "        text-align: right;\n",
       "    }\n",
       "</style>\n",
       "<table border=\"1\" class=\"dataframe\">\n",
       "  <thead>\n",
       "    <tr style=\"text-align: right;\">\n",
       "      <th></th>\n",
       "      <th>AESTTime</th>\n",
       "      <th>Quantity</th>\n",
       "      <th>Unit</th>\n",
       "      <th>Nmi</th>\n",
       "    </tr>\n",
       "  </thead>\n",
       "  <tbody>\n",
       "    <tr>\n",
       "      <th>0</th>\n",
       "      <td>01/10/2017 00:00:00</td>\n",
       "      <td>117.36</td>\n",
       "      <td>kWh</td>\n",
       "      <td>NMIG2</td>\n",
       "    </tr>\n",
       "    <tr>\n",
       "      <th>1</th>\n",
       "      <td>01/10/2017 00:30:00</td>\n",
       "      <td>114.88</td>\n",
       "      <td>kWh</td>\n",
       "      <td>NMIG2</td>\n",
       "    </tr>\n",
       "    <tr>\n",
       "      <th>2</th>\n",
       "      <td>01/10/2017 01:00:00</td>\n",
       "      <td>108.15</td>\n",
       "      <td>kWh</td>\n",
       "      <td>NMIG2</td>\n",
       "    </tr>\n",
       "    <tr>\n",
       "      <th>3</th>\n",
       "      <td>01/10/2017 01:30:00</td>\n",
       "      <td>107.75</td>\n",
       "      <td>kWh</td>\n",
       "      <td>NMIG2</td>\n",
       "    </tr>\n",
       "    <tr>\n",
       "      <th>4</th>\n",
       "      <td>01/10/2017 02:00:00</td>\n",
       "      <td>111.63</td>\n",
       "      <td>kWh</td>\n",
       "      <td>NMIG2</td>\n",
       "    </tr>\n",
       "  </tbody>\n",
       "</table>\n",
       "</div>"
      ],
      "text/plain": [
       "              AESTTime  Quantity Unit    Nmi\n",
       "0  01/10/2017 00:00:00    117.36  kWh  NMIG2\n",
       "1  01/10/2017 00:30:00    114.88  kWh  NMIG2\n",
       "2  01/10/2017 01:00:00    108.15  kWh  NMIG2\n",
       "3  01/10/2017 01:30:00    107.75  kWh  NMIG2\n",
       "4  01/10/2017 02:00:00    111.63  kWh  NMIG2"
      ]
     },
     "execution_count": 4,
     "metadata": {},
     "output_type": "execute_result"
    }
   ],
   "source": [
    "# Read CSV into Pandas Dataframe\n",
    "NMIA3 = pd.read_csv(path + \"NMIA3\" + \".csv\")\n",
    "NMIA2 = pd.read_csv(path + \"NMIA2\" + \".csv\")\n",
    "NMIM1 = pd.read_csv(path + \"NMIM1\" + \".csv\")\n",
    "NMIA1 = pd.read_csv(path + \"NMIA1\" + \".csv\")\n",
    "NMIS3 = pd.read_csv(path + \"NMIS3\" + \".csv\")\n",
    "NMIS2 = pd.read_csv(path + \"NMIS2\" + \".csv\")\n",
    "NMIK4 = pd.read_csv(path + \"NMIK4\" + \".csv\")\n",
    "NMIS1 = pd.read_csv(path + \"NMIS1\" + \".csv\")\n",
    "NMIR1 = pd.read_csv(path + \"NMIR1\" + \".csv\")\n",
    "NMIG1 = pd.read_csv(path + \"NMIG1\" + \".csv\")\n",
    "NMIR2 = pd.read_csv(path + \"NMIR2\" + \".csv\")\n",
    "NMIG2 = pd.read_csv(path + \"NMIG2\" + \".csv\")\n",
    "NMIA3[\"Nmi\"] = \"NMIA3\"\n",
    "NMIA2[\"Nmi\"] = \"NMIA2\"\n",
    "NMIM1[\"Nmi\"] = \"NMIM1\"\n",
    "NMIA1[\"Nmi\"] = \"NMIA1\"\n",
    "NMIS3[\"Nmi\"] = \"NMIS3\"\n",
    "NMIS2[\"Nmi\"] = \"NMIS2\"\n",
    "NMIK4[\"Nmi\"] = \"NMIK4\"\n",
    "NMIS1[\"Nmi\"] = \"NMIS1\"\n",
    "NMIR1[\"Nmi\"] = \"NMIR1\"\n",
    "NMIG1[\"Nmi\"] = \"NMIG1\"\n",
    "NMIR2[\"Nmi\"] = \"NMIR2\"\n",
    "NMIG2[\"Nmi\"] = \"NMIG2\"\n",
    "NMIG2.head()"
   ]
  },
  {
   "cell_type": "code",
   "execution_count": 5,
   "metadata": {},
   "outputs": [],
   "source": [
    "nmi_all = pd.concat([NMIA2,NMIM1,NMIA1,NMIS3,NMIS2,NMIK4,NMIS1,NMIR1,NMIG1,NMIR2,NMIG2,NMIA3])\n",
    "nmi_all = nmi_all.reset_index(drop=True)"
   ]
  },
  {
   "cell_type": "markdown",
   "metadata": {},
   "source": [
    "## Inspect Data and Unified Unit"
   ]
  },
  {
   "cell_type": "code",
   "execution_count": 6,
   "metadata": {},
   "outputs": [
    {
     "name": "stdout",
     "output_type": "stream",
     "text": [
      "AESTTime    52560\n",
      "Quantity    38339\n",
      "Unit            2\n",
      "Nmi            12\n",
      "dtype: int64\n"
     ]
    }
   ],
   "source": [
    "# Check how many unique values in each columns\n",
    "uniqueValues = nmi_all.nunique() \n",
    "print(uniqueValues)"
   ]
  },
  {
   "cell_type": "code",
   "execution_count": 8,
   "metadata": {},
   "outputs": [
    {
     "data": {
      "text/html": [
       "<div>\n",
       "<style scoped>\n",
       "    .dataframe tbody tr th:only-of-type {\n",
       "        vertical-align: middle;\n",
       "    }\n",
       "\n",
       "    .dataframe tbody tr th {\n",
       "        vertical-align: top;\n",
       "    }\n",
       "\n",
       "    .dataframe thead th {\n",
       "        text-align: right;\n",
       "    }\n",
       "</style>\n",
       "<table border=\"1\" class=\"dataframe\">\n",
       "  <thead>\n",
       "    <tr style=\"text-align: right;\">\n",
       "      <th></th>\n",
       "      <th>AESTTime</th>\n",
       "      <th>Quantity</th>\n",
       "      <th>Unit</th>\n",
       "      <th>Nmi</th>\n",
       "    </tr>\n",
       "  </thead>\n",
       "  <tbody>\n",
       "    <tr>\n",
       "      <th>0</th>\n",
       "      <td>2017-10-01 00:00:00</td>\n",
       "      <td>4.52</td>\n",
       "      <td>kWh</td>\n",
       "      <td>NMIA2</td>\n",
       "    </tr>\n",
       "    <tr>\n",
       "      <th>1</th>\n",
       "      <td>2017-10-01 00:15:00</td>\n",
       "      <td>4.28</td>\n",
       "      <td>kWh</td>\n",
       "      <td>NMIA2</td>\n",
       "    </tr>\n",
       "    <tr>\n",
       "      <th>2</th>\n",
       "      <td>2017-10-01 00:30:00</td>\n",
       "      <td>4.37</td>\n",
       "      <td>kWh</td>\n",
       "      <td>NMIA2</td>\n",
       "    </tr>\n",
       "    <tr>\n",
       "      <th>3</th>\n",
       "      <td>2017-10-01 00:45:00</td>\n",
       "      <td>4.65</td>\n",
       "      <td>kWh</td>\n",
       "      <td>NMIA2</td>\n",
       "    </tr>\n",
       "    <tr>\n",
       "      <th>4</th>\n",
       "      <td>2017-10-01 01:00:00</td>\n",
       "      <td>5.10</td>\n",
       "      <td>kWh</td>\n",
       "      <td>NMIA2</td>\n",
       "    </tr>\n",
       "    <tr>\n",
       "      <th>...</th>\n",
       "      <td>...</td>\n",
       "      <td>...</td>\n",
       "      <td>...</td>\n",
       "      <td>...</td>\n",
       "    </tr>\n",
       "    <tr>\n",
       "      <th>245275</th>\n",
       "      <td>2018-09-30 21:30:00</td>\n",
       "      <td>7.33</td>\n",
       "      <td>kWh</td>\n",
       "      <td>NMIA3</td>\n",
       "    </tr>\n",
       "    <tr>\n",
       "      <th>245276</th>\n",
       "      <td>2018-09-30 22:00:00</td>\n",
       "      <td>7.32</td>\n",
       "      <td>kWh</td>\n",
       "      <td>NMIA3</td>\n",
       "    </tr>\n",
       "    <tr>\n",
       "      <th>245277</th>\n",
       "      <td>2018-09-30 22:30:00</td>\n",
       "      <td>7.38</td>\n",
       "      <td>kWh</td>\n",
       "      <td>NMIA3</td>\n",
       "    </tr>\n",
       "    <tr>\n",
       "      <th>245278</th>\n",
       "      <td>2018-09-30 23:00:00</td>\n",
       "      <td>7.13</td>\n",
       "      <td>kWh</td>\n",
       "      <td>NMIA3</td>\n",
       "    </tr>\n",
       "    <tr>\n",
       "      <th>245279</th>\n",
       "      <td>2018-09-30 23:30:00</td>\n",
       "      <td>7.42</td>\n",
       "      <td>kWh</td>\n",
       "      <td>NMIA3</td>\n",
       "    </tr>\n",
       "  </tbody>\n",
       "</table>\n",
       "<p>245280 rows × 4 columns</p>\n",
       "</div>"
      ],
      "text/plain": [
       "                   AESTTime  Quantity Unit    Nmi\n",
       "0       2017-10-01 00:00:00      4.52  kWh  NMIA2\n",
       "1       2017-10-01 00:15:00      4.28  kWh  NMIA2\n",
       "2       2017-10-01 00:30:00      4.37  kWh  NMIA2\n",
       "3       2017-10-01 00:45:00      4.65  kWh  NMIA2\n",
       "4       2017-10-01 01:00:00      5.10  kWh  NMIA2\n",
       "...                     ...       ...  ...    ...\n",
       "245275  2018-09-30 21:30:00      7.33  kWh  NMIA3\n",
       "245276  2018-09-30 22:00:00      7.32  kWh  NMIA3\n",
       "245277  2018-09-30 22:30:00      7.38  kWh  NMIA3\n",
       "245278  2018-09-30 23:00:00      7.13  kWh  NMIA3\n",
       "245279  2018-09-30 23:30:00      7.42  kWh  NMIA3\n",
       "\n",
       "[245280 rows x 4 columns]"
      ]
     },
     "execution_count": 8,
     "metadata": {},
     "output_type": "execute_result"
    }
   ],
   "source": [
    "#Update all the Unit to kWh and update the Quantity value accordingly and round to two decimal.\n",
    "nmi_all.loc[nmi_all[\"Unit\"] ==\"Mwh\",'Quantity'] = nmi_all[\"Quantity\"] * 1000\n",
    "nmi_all[\"Unit\"] = \"kWh\"\n",
    "nmi_all.round({\"Quantity\": 2})"
   ]
  },
  {
   "cell_type": "code",
   "execution_count": 18,
   "metadata": {},
   "outputs": [
    {
     "data": {
      "text/plain": [
       "AESTTime    4088\n",
       "Quantity       0\n",
       "Unit           0\n",
       "Nmi            0\n",
       "dtype: int64"
      ]
     },
     "execution_count": 18,
     "metadata": {},
     "output_type": "execute_result"
    }
   ],
   "source": [
    "# Check the null value in each column\n",
    "nmi_all.isnull().sum()"
   ]
  },
  {
   "cell_type": "code",
   "execution_count": null,
   "metadata": {},
   "outputs": [],
   "source": [
    "# Filling AESTTime column Null Values with previous value plus interval minutes\n",
    "nmi_all[\"AESTTime\"]=nmi_all[\"AESTTime\"].interpolate()\n",
    "nmi_all.to_csv('FillNA.csv', index=True)"
   ]
  },
  {
   "cell_type": "code",
   "execution_count": 19,
   "metadata": {},
   "outputs": [],
   "source": [
    "# conver string to datetime\n",
    "nmi_all[\"AESTTime\"] = pd.to_datetime(nmi_all[\"AESTTime\"])"
   ]
  },
  {
   "cell_type": "code",
   "execution_count": 22,
   "metadata": {},
   "outputs": [
    {
     "data": {
      "text/html": [
       "<div>\n",
       "<style scoped>\n",
       "    .dataframe tbody tr th:only-of-type {\n",
       "        vertical-align: middle;\n",
       "    }\n",
       "\n",
       "    .dataframe tbody tr th {\n",
       "        vertical-align: top;\n",
       "    }\n",
       "\n",
       "    .dataframe thead th {\n",
       "        text-align: right;\n",
       "    }\n",
       "</style>\n",
       "<table border=\"1\" class=\"dataframe\">\n",
       "  <thead>\n",
       "    <tr style=\"text-align: right;\">\n",
       "      <th></th>\n",
       "      <th>AESTTime</th>\n",
       "      <th>Quantity</th>\n",
       "      <th>Unit</th>\n",
       "      <th>Nmi</th>\n",
       "      <th>State</th>\n",
       "      <th>Interval</th>\n",
       "    </tr>\n",
       "  </thead>\n",
       "  <tbody>\n",
       "    <tr>\n",
       "      <th>0</th>\n",
       "      <td>2017-10-01 00:00:00</td>\n",
       "      <td>4.52</td>\n",
       "      <td>kWh</td>\n",
       "      <td>NMIA2</td>\n",
       "      <td>VIC</td>\n",
       "      <td>15.0</td>\n",
       "    </tr>\n",
       "    <tr>\n",
       "      <th>1</th>\n",
       "      <td>2017-10-01 00:15:00</td>\n",
       "      <td>4.28</td>\n",
       "      <td>kWh</td>\n",
       "      <td>NMIA2</td>\n",
       "      <td>VIC</td>\n",
       "      <td>15.0</td>\n",
       "    </tr>\n",
       "    <tr>\n",
       "      <th>2</th>\n",
       "      <td>2017-10-01 00:30:00</td>\n",
       "      <td>4.37</td>\n",
       "      <td>kWh</td>\n",
       "      <td>NMIA2</td>\n",
       "      <td>VIC</td>\n",
       "      <td>15.0</td>\n",
       "    </tr>\n",
       "    <tr>\n",
       "      <th>3</th>\n",
       "      <td>2017-10-01 00:45:00</td>\n",
       "      <td>4.65</td>\n",
       "      <td>kWh</td>\n",
       "      <td>NMIA2</td>\n",
       "      <td>VIC</td>\n",
       "      <td>15.0</td>\n",
       "    </tr>\n",
       "    <tr>\n",
       "      <th>4</th>\n",
       "      <td>2017-10-01 01:00:00</td>\n",
       "      <td>5.10</td>\n",
       "      <td>kWh</td>\n",
       "      <td>NMIA2</td>\n",
       "      <td>VIC</td>\n",
       "      <td>15.0</td>\n",
       "    </tr>\n",
       "  </tbody>\n",
       "</table>\n",
       "</div>"
      ],
      "text/plain": [
       "             AESTTime  Quantity Unit    Nmi State  Interval\n",
       "0 2017-10-01 00:00:00      4.52  kWh  NMIA2   VIC      15.0\n",
       "1 2017-10-01 00:15:00      4.28  kWh  NMIA2   VIC      15.0\n",
       "2 2017-10-01 00:30:00      4.37  kWh  NMIA2   VIC      15.0\n",
       "3 2017-10-01 00:45:00      4.65  kWh  NMIA2   VIC      15.0\n",
       "4 2017-10-01 01:00:00      5.10  kWh  NMIA2   VIC      15.0"
      ]
     },
     "execution_count": 22,
     "metadata": {},
     "output_type": "execute_result"
    }
   ],
   "source": [
    "# Join Consumption data and nmi_info data together\n",
    "nmi_all_info = pd.merge(nmi_all, nmi_info, how='left', on='Nmi')\n",
    "# nmi_all_info[\"Year\"]=pd.DatetimeIndex(nmi_all_info[\"AESTTime\"]).year\n",
    "# nmi_all_info[\"Year\"] = nmi_all_info[\"Year\"].astype(int)\n",
    "nmi_all_info.head()\n",
    "#nmi_all_info.dtypes"
   ]
  },
  {
   "cell_type": "code",
   "execution_count": 27,
   "metadata": {},
   "outputs": [],
   "source": [
    "AESTnulldf= nmi_all_info[nmi_all_info[\"AESTTime\"].isnull()]"
   ]
  },
  {
   "cell_type": "code",
   "execution_count": 45,
   "metadata": {},
   "outputs": [],
   "source": [
    "\n",
    "Interval = AESTnulldf[\"Interval\"].unique()\n",
    "nmi_all_info[\"Interval\"] = nmi_all_info[\"Interval\"].fillna(0).astype(int)\n",
    "#nmi_all_info['AESTTime'] = nmi_all_info['AESTTime'] + pd.Series([datetime.timedelta(minutes=x) for x in wait_min])\n",
    "for ind, row in nmi_all_info.iterrows():\n",
    "    if nmi_all_info.loc[ind,\"AESTTime\"] is pd.NaT:\n",
    "        nmi_all_info.loc[ind,\"AESTTime\"] = nmi_all_info.loc[ind-1,\"AESTTime\"] + timedelta(minutes=30)"
   ]
  },
  {
   "cell_type": "code",
   "execution_count": 47,
   "metadata": {},
   "outputs": [
    {
     "data": {
      "text/plain": [
       "AESTTime        0\n",
       "Quantity        0\n",
       "Unit            0\n",
       "Nmi             0\n",
       "State       17520\n",
       "Interval        0\n",
       "dtype: int64"
      ]
     },
     "execution_count": 47,
     "metadata": {},
     "output_type": "execute_result"
    }
   ],
   "source": [
    "# Checking dataframe, state information is missing due to NMIK4 information is missing from nmi_info.csv file\n",
    "nmi_all_info.isnull().sum()"
   ]
  },
  {
   "cell_type": "markdown",
   "metadata": {
    "tags": []
   },
   "source": [
    "## Join Consumption Data with nmi_info by merge two dataframe"
   ]
  },
  {
   "cell_type": "markdown",
   "metadata": {},
   "source": [
    "## Find out the DST time period and convert AEST Time to local time"
   ]
  },
  {
   "cell_type": "code",
   "execution_count": null,
   "metadata": {},
   "outputs": [],
   "source": [
    "# conver string to datetime\n",
    "#nmi_all_info[\"AESTTime\"] = pd.to_datetime(nmi_all_info[\"AESTTime\"])"
   ]
  },
  {
   "cell_type": "code",
   "execution_count": null,
   "metadata": {},
   "outputs": [],
   "source": [
    "# Grab the max and min year in NMI dataframe\n",
    "import datetime\n",
    "start_time = nmi_all_info[\"AESTTime\"].min()\n",
    "startYear = start_time.year\n",
    "finish_time = nmi_all_info[\"AESTTime\"].max()\n",
    "finishYear = finish_time.year\n",
    "print(startYear)\n",
    "print(finishYear)"
   ]
  },
  {
   "cell_type": "code",
   "execution_count": null,
   "metadata": {},
   "outputs": [],
   "source": [
    "from datetime import datetime, timedelta\n",
    "# input year and month\n",
    "yearMonthStart = f'{startYear}-10'\n",
    "  \n",
    "# getting date of first Sunday in Oct.\n",
    "dst_start_time = numpy.busday_offset(yearMonthStart, 0, \n",
    "                           roll='forward', \n",
    "                           weekmask='Sun')\n",
    "# input year and month\n",
    "yearMonthFinish = f'{finishYear}-04'\n",
    "  \n",
    "# getting date of first Sunday in Apr.\n",
    "dst_finish_time = numpy.busday_offset(yearMonthFinish, 0, \n",
    "                           roll='forward', \n",
    "                           weekmask='Sun')\n",
    "\n",
    "dst_start_dt = datetime.strptime(f'{dst_start_time}  02:00:00', '%Y-%m-%d %H:%M:%S')\n",
    "dst_finish_dt = datetime.strptime(f'{dst_finish_time}  03:00:00', '%Y-%m-%d %H:%M:%S')\n",
    "print(dst_start_dt)\n",
    "print(dst_finish_dt)"
   ]
  },
  {
   "cell_type": "code",
   "execution_count": null,
   "metadata": {},
   "outputs": [],
   "source": [
    "# create dataframe with NMI in VIC, NSW, and WA which need to change to local time\n",
    "df_dst = nmi_all_info.loc[(nmi_all_info[\"State\"]==\"VIC\") | (nmi_all_info[\"State\"]==\"NSW\")]\n",
    "df_dst.loc[(df_dst[\"AESTTime\"] >= dst_start_dt)&(df_dst[\"AESTTime\"] < dst_finish_dt),'LocalTime'] = df_dst[\"AESTTime\"] + timedelta(hours=1)\n",
    "df_wa = nmi_all_info.loc[(nmi_all_info[\"State\"]==\"WA\")]\n",
    "df_wa['LocalTime'] = df_wa[\"AESTTime\"] - timedelta(hours=2)\n",
    "df_qld = nmi_all_info.loc[(nmi_all_info[\"State\"]==\"QLD\")]\n",
    "df_qld[\"LocalTime\"] = df_qld[\"AESTTime\"]\n",
    "#df_wa['LocalTime'] = df_dst[\"AESTTime\"] - timedelta(hours=2)\n",
    "df_dst.head()"
   ]
  },
  {
   "cell_type": "code",
   "execution_count": null,
   "metadata": {
    "tags": []
   },
   "outputs": [],
   "source": [
    "# Fill no time difference fild with AEST Time.\n",
    "nmi_local_time = pd.concat([df_dst,df_wa,df_qld])\n",
    "nmi_local_time.LocalTime.fillna(nmi_local_time.AESTTime, inplace=True)\n",
    "nmi_local_time[\"Year\"]=pd.DatetimeIndex(nmi_local_time[\"LocalTime\"]).year\n",
    "nmi_local_time[\"Year\"] = nmi_local_time[\"Year\"].fillna(0).astype(int)"
   ]
  },
  {
   "cell_type": "markdown",
   "metadata": {},
   "source": [
    "## Data Validation"
   ]
  },
  {
   "cell_type": "code",
   "execution_count": null,
   "metadata": {},
   "outputs": [],
   "source": [
    "import great_expectations as ge\n",
    "import os\n",
    "import numpy as np\n",
    "import seaborn as sns\n",
    "import os\n",
    "import datetime\n",
    "%matplotlib inline"
   ]
  },
  {
   "cell_type": "markdown",
   "metadata": {},
   "source": [
    "### Read the DataSet"
   ]
  },
  {
   "cell_type": "code",
   "execution_count": null,
   "metadata": {},
   "outputs": [],
   "source": [
    "nmi_local_time.head(3)"
   ]
  },
  {
   "cell_type": "code",
   "execution_count": null,
   "metadata": {},
   "outputs": [],
   "source": [
    "nmi_local_time.info()"
   ]
  },
  {
   "cell_type": "code",
   "execution_count": null,
   "metadata": {},
   "outputs": [],
   "source": [
    "nmi_local_time.describe()"
   ]
  },
  {
   "cell_type": "markdown",
   "metadata": {},
   "source": [
    "### Seperate date and time"
   ]
  },
  {
   "cell_type": "code",
   "execution_count": null,
   "metadata": {},
   "outputs": [],
   "source": [
    "nmi_local_time[\"LocalDate\"]= nmi_local_time[\"LocalTime\"].dt.date\n",
    "nmi_local_time[\"LocalTime\"]= nmi_local_time[\"LocalTime\"].dt.time\n",
    "nmi_local_time.head(3)"
   ]
  },
  {
   "cell_type": "markdown",
   "metadata": {},
   "source": [
    "### When was the highest Energy Consumption, which NMI, what time, and which year"
   ]
  },
  {
   "cell_type": "code",
   "execution_count": null,
   "metadata": {},
   "outputs": [],
   "source": [
    "nmi_local_time[nmi_local_time[\"Quantity\"] == nmi_local_time[\"Quantity\"].max()]\n",
    "#nmi_local_time[(nmi_local_time[\"Quantity\"] == nmi_local_time[\"Quantity\"].min()) & (nmi_local_time[\"Quantity\"] != 0)]"
   ]
  },
  {
   "cell_type": "markdown",
   "metadata": {},
   "source": [
    "### Plot and Data visualization"
   ]
  },
  {
   "cell_type": "code",
   "execution_count": null,
   "metadata": {},
   "outputs": [],
   "source": [
    "sns.distplot(nmi_local_time[\"Quantity\"])"
   ]
  },
  {
   "cell_type": "markdown",
   "metadata": {},
   "source": [
    "### Check how many years are unique"
   ]
  },
  {
   "cell_type": "code",
   "execution_count": null,
   "metadata": {},
   "outputs": [],
   "source": [
    "nmi_local_time[\"Year\"].unique()"
   ]
  },
  {
   "cell_type": "code",
   "execution_count": null,
   "metadata": {},
   "outputs": [],
   "source": [
    "countLT = (nmi_local_time[\"LocalTime\"] == 0).sum()\n",
    "countQ = (nmi_local_time[\"Quantity\"] == 0).sum()\n",
    "print(countQ)"
   ]
  },
  {
   "cell_type": "code",
   "execution_count": null,
   "metadata": {},
   "outputs": [],
   "source": [
    "nmi_local_time = nmi_local_time.loc[(nmi_local_time[\"Quantity\"]!= 0)]"
   ]
  },
  {
   "cell_type": "code",
   "execution_count": null,
   "metadata": {},
   "outputs": [],
   "source": [
    "nmi_local_time.to_csv('NMI_Consumption.csv', index=False)"
   ]
  },
  {
   "cell_type": "markdown",
   "metadata": {},
   "source": [
    "### Configureation Great Expectations_ Testing Use"
   ]
  },
  {
   "cell_type": "code",
   "execution_count": null,
   "metadata": {},
   "outputs": [],
   "source": [
    "import great_expectations as ge\n",
    "from great_expectations.cli.datasource import sanitize_yaml_and_save_datasource, check_if_datasource_name_exists\n",
    "context = ge.get_context()"
   ]
  },
  {
   "cell_type": "code",
   "execution_count": null,
   "metadata": {},
   "outputs": [],
   "source": [
    "datasource_name = \"nmi_local_time\""
   ]
  },
  {
   "cell_type": "code",
   "execution_count": null,
   "metadata": {},
   "outputs": [],
   "source": [
    "example_yaml = f\"\"\"\n",
    "name: {datasource_name}\n",
    "class_name: Datasource\n",
    "execution_engine:\n",
    "  class_name: PandasExecutionEngine\n",
    "data_connectors:\n",
    "  default_inferred_data_connector_name:\n",
    "    class_name: InferredAssetFilesystemDataConnector\n",
    "    base_directory: ..\n",
    "    default_regex:\n",
    "      group_names:\n",
    "        - data_asset_name\n",
    "      pattern: (.*)\n",
    "  default_runtime_data_connector_name:\n",
    "    class_name: RuntimeDataConnector\n",
    "    batch_identifiers:\n",
    "      - default_identifier_name\n",
    "\"\"\"\n",
    "print(example_yaml)"
   ]
  },
  {
   "cell_type": "code",
   "execution_count": null,
   "metadata": {},
   "outputs": [],
   "source": [
    "context.test_yaml_config(yaml_config=example_yaml)"
   ]
  },
  {
   "cell_type": "code",
   "execution_count": null,
   "metadata": {},
   "outputs": [],
   "source": [
    "sanitize_yaml_and_save_datasource(context, example_yaml, overwrite_existing=False)\n",
    "context.list_datasources()"
   ]
  },
  {
   "cell_type": "code",
   "execution_count": null,
   "metadata": {},
   "outputs": [],
   "source": [
    "import great_expectations as ge\n",
    "\n",
    "print(ge.__version__)"
   ]
  },
  {
   "cell_type": "code",
   "execution_count": null,
   "metadata": {},
   "outputs": [],
   "source": [
    "context = ge.get_context()"
   ]
  },
  {
   "cell_type": "code",
   "execution_count": null,
   "metadata": {},
   "outputs": [],
   "source": [
    "nmi_local_time.expect_column_values_to_not_be_null(\"Quantity\")"
   ]
  },
  {
   "cell_type": "code",
   "execution_count": null,
   "metadata": {},
   "outputs": [],
   "source": [
    "nmi_local_time.expect_column_values_to_be_in_set('Year', [\"2018\"])"
   ]
  },
  {
   "cell_type": "code",
   "execution_count": null,
   "metadata": {},
   "outputs": [],
   "source": []
  },
  {
   "cell_type": "code",
   "execution_count": null,
   "metadata": {},
   "outputs": [],
   "source": []
  },
  {
   "cell_type": "code",
   "execution_count": null,
   "metadata": {},
   "outputs": [],
   "source": []
  },
  {
   "cell_type": "code",
   "execution_count": null,
   "metadata": {},
   "outputs": [],
   "source": []
  },
  {
   "cell_type": "code",
   "execution_count": null,
   "metadata": {},
   "outputs": [],
   "source": []
  },
  {
   "cell_type": "code",
   "execution_count": null,
   "metadata": {},
   "outputs": [],
   "source": []
  },
  {
   "cell_type": "code",
   "execution_count": null,
   "metadata": {},
   "outputs": [],
   "source": []
  }
 ],
 "metadata": {
  "kernelspec": {
   "display_name": "Python 3 (ipykernel)",
   "language": "python",
   "name": "python3"
  },
  "language_info": {
   "codemirror_mode": {
    "name": "ipython",
    "version": 3
   },
   "file_extension": ".py",
   "mimetype": "text/x-python",
   "name": "python",
   "nbconvert_exporter": "python",
   "pygments_lexer": "ipython3",
   "version": "3.8.3"
  }
 },
 "nbformat": 4,
 "nbformat_minor": 4
}
