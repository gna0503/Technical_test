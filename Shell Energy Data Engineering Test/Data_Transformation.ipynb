{
 "cells": [
  {
   "cell_type": "markdown",
   "metadata": {},
   "source": [
    "# please do the solution in Python, and design it as if it was part of a production system on AWS"
   ]
  },
  {
   "cell_type": "code",
   "execution_count": 1,
   "metadata": {},
   "outputs": [],
   "source": [
    "import os\n",
    "import pandas as pd\n",
    "import numpy\n",
    "#import great_expectations as ge"
   ]
  },
  {
   "cell_type": "markdown",
   "metadata": {},
   "source": [
    "# Read all csv files and extract name into a list."
   ]
  },
  {
   "cell_type": "code",
   "execution_count": 2,
   "metadata": {},
   "outputs": [
    {
     "name": "stdout",
     "output_type": "stream",
     "text": [
      "['NMIA3', 'NMIA2', 'NMIM1', 'NMIA1', 'NMIS3', 'NMIS2', 'NMIK4', 'NMIS1', 'NMIR1', 'NMIG1', 'NMIR2', 'NMIG2']\n"
     ]
    },
    {
     "data": {
      "text/plain": [
       "12"
      ]
     },
     "execution_count": 2,
     "metadata": {},
     "output_type": "execute_result"
    }
   ],
   "source": [
    "# Get csv file name in ConsumptionData folder\n",
    "path = \"Data/ConsumptionData/\"\n",
    "file_list = os.listdir(path)\n",
    "name_list = []\n",
    "for filename in file_list:\n",
    "    #print(filename)\n",
    "    if filename.endswith(\".csv\"):\n",
    "        #table_list.append(pd.read_csv(filename,sep=\"|\"))\n",
    "        name_list.append(os.path.splitext(filename)[0])\n",
    "print(name_list)\n",
    "len(name_list)"
   ]
  },
  {
   "cell_type": "code",
   "execution_count": 3,
   "metadata": {},
   "outputs": [
    {
     "data": {
      "text/html": [
       "<div>\n",
       "<style scoped>\n",
       "    .dataframe tbody tr th:only-of-type {\n",
       "        vertical-align: middle;\n",
       "    }\n",
       "\n",
       "    .dataframe tbody tr th {\n",
       "        vertical-align: top;\n",
       "    }\n",
       "\n",
       "    .dataframe thead th {\n",
       "        text-align: right;\n",
       "    }\n",
       "</style>\n",
       "<table border=\"1\" class=\"dataframe\">\n",
       "  <thead>\n",
       "    <tr style=\"text-align: right;\">\n",
       "      <th></th>\n",
       "      <th>Nmi</th>\n",
       "      <th>State</th>\n",
       "      <th>Interval</th>\n",
       "    </tr>\n",
       "  </thead>\n",
       "  <tbody>\n",
       "    <tr>\n",
       "      <th>0</th>\n",
       "      <td>NMIM1</td>\n",
       "      <td>QLD</td>\n",
       "      <td>30.0</td>\n",
       "    </tr>\n",
       "    <tr>\n",
       "      <th>1</th>\n",
       "      <td>NMIS2</td>\n",
       "      <td>NSW</td>\n",
       "      <td>30.0</td>\n",
       "    </tr>\n",
       "    <tr>\n",
       "      <th>2</th>\n",
       "      <td>NMIS3</td>\n",
       "      <td>NSW</td>\n",
       "      <td>30.0</td>\n",
       "    </tr>\n",
       "    <tr>\n",
       "      <th>3</th>\n",
       "      <td>NMIA2</td>\n",
       "      <td>VIC</td>\n",
       "      <td>15.0</td>\n",
       "    </tr>\n",
       "    <tr>\n",
       "      <th>4</th>\n",
       "      <td>NMIA1</td>\n",
       "      <td>VIC</td>\n",
       "      <td>15.0</td>\n",
       "    </tr>\n",
       "  </tbody>\n",
       "</table>\n",
       "</div>"
      ],
      "text/plain": [
       "     Nmi State  Interval\n",
       "0  NMIM1   QLD      30.0\n",
       "1  NMIS2   NSW      30.0\n",
       "2  NMIS3   NSW      30.0\n",
       "3  NMIA2   VIC      15.0\n",
       "4  NMIA1   VIC      15.0"
      ]
     },
     "execution_count": 3,
     "metadata": {},
     "output_type": "execute_result"
    }
   ],
   "source": [
    "nmi_info = pd.read_csv(\"Data/nmi_info.csv\")\n",
    "nmi_info.head()"
   ]
  },
  {
   "cell_type": "code",
   "execution_count": 4,
   "metadata": {},
   "outputs": [
    {
     "data": {
      "text/html": [
       "<div>\n",
       "<style scoped>\n",
       "    .dataframe tbody tr th:only-of-type {\n",
       "        vertical-align: middle;\n",
       "    }\n",
       "\n",
       "    .dataframe tbody tr th {\n",
       "        vertical-align: top;\n",
       "    }\n",
       "\n",
       "    .dataframe thead th {\n",
       "        text-align: right;\n",
       "    }\n",
       "</style>\n",
       "<table border=\"1\" class=\"dataframe\">\n",
       "  <thead>\n",
       "    <tr style=\"text-align: right;\">\n",
       "      <th></th>\n",
       "      <th>AESTTime</th>\n",
       "      <th>Quantity</th>\n",
       "      <th>Unit</th>\n",
       "      <th>Nmi</th>\n",
       "    </tr>\n",
       "  </thead>\n",
       "  <tbody>\n",
       "    <tr>\n",
       "      <th>0</th>\n",
       "      <td>01/10/2017 00:00:00</td>\n",
       "      <td>117.36</td>\n",
       "      <td>kWh</td>\n",
       "      <td>NMIG2</td>\n",
       "    </tr>\n",
       "    <tr>\n",
       "      <th>1</th>\n",
       "      <td>01/10/2017 00:30:00</td>\n",
       "      <td>114.88</td>\n",
       "      <td>kWh</td>\n",
       "      <td>NMIG2</td>\n",
       "    </tr>\n",
       "    <tr>\n",
       "      <th>2</th>\n",
       "      <td>01/10/2017 01:00:00</td>\n",
       "      <td>108.15</td>\n",
       "      <td>kWh</td>\n",
       "      <td>NMIG2</td>\n",
       "    </tr>\n",
       "    <tr>\n",
       "      <th>3</th>\n",
       "      <td>01/10/2017 01:30:00</td>\n",
       "      <td>107.75</td>\n",
       "      <td>kWh</td>\n",
       "      <td>NMIG2</td>\n",
       "    </tr>\n",
       "    <tr>\n",
       "      <th>4</th>\n",
       "      <td>01/10/2017 02:00:00</td>\n",
       "      <td>111.63</td>\n",
       "      <td>kWh</td>\n",
       "      <td>NMIG2</td>\n",
       "    </tr>\n",
       "  </tbody>\n",
       "</table>\n",
       "</div>"
      ],
      "text/plain": [
       "              AESTTime  Quantity Unit    Nmi\n",
       "0  01/10/2017 00:00:00    117.36  kWh  NMIG2\n",
       "1  01/10/2017 00:30:00    114.88  kWh  NMIG2\n",
       "2  01/10/2017 01:00:00    108.15  kWh  NMIG2\n",
       "3  01/10/2017 01:30:00    107.75  kWh  NMIG2\n",
       "4  01/10/2017 02:00:00    111.63  kWh  NMIG2"
      ]
     },
     "execution_count": 4,
     "metadata": {},
     "output_type": "execute_result"
    }
   ],
   "source": [
    "# Read CSV into Pandas Dataframe\n",
    "NMIA3 = pd.read_csv(path + \"NMIA3\" + \".csv\")\n",
    "NMIA2 = pd.read_csv(path + \"NMIA2\" + \".csv\")\n",
    "NMIM1 = pd.read_csv(path + \"NMIM1\" + \".csv\")\n",
    "NMIA1 = pd.read_csv(path + \"NMIA1\" + \".csv\")\n",
    "NMIS3 = pd.read_csv(path + \"NMIS3\" + \".csv\")\n",
    "NMIS2 = pd.read_csv(path + \"NMIS2\" + \".csv\")\n",
    "NMIK4 = pd.read_csv(path + \"NMIK4\" + \".csv\")\n",
    "NMIS1 = pd.read_csv(path + \"NMIS1\" + \".csv\")\n",
    "NMIR1 = pd.read_csv(path + \"NMIR1\" + \".csv\")\n",
    "NMIG1 = pd.read_csv(path + \"NMIG1\" + \".csv\")\n",
    "NMIR2 = pd.read_csv(path + \"NMIR2\" + \".csv\")\n",
    "NMIG2 = pd.read_csv(path + \"NMIG2\" + \".csv\")\n",
    "NMIA3[\"Nmi\"] = \"NMIA3\"\n",
    "NMIA2[\"Nmi\"] = \"NMIA2\"\n",
    "NMIM1[\"Nmi\"] = \"NMIM1\"\n",
    "NMIA1[\"Nmi\"] = \"NMIA1\"\n",
    "NMIS3[\"Nmi\"] = \"NMIS3\"\n",
    "NMIS2[\"Nmi\"] = \"NMIS2\"\n",
    "NMIK4[\"Nmi\"] = \"NMIK4\"\n",
    "NMIS1[\"Nmi\"] = \"NMIS1\"\n",
    "NMIR1[\"Nmi\"] = \"NMIR1\"\n",
    "NMIG1[\"Nmi\"] = \"NMIG1\"\n",
    "NMIR2[\"Nmi\"] = \"NMIR2\"\n",
    "NMIG2[\"Nmi\"] = \"NMIG2\"\n",
    "NMIG2.head()"
   ]
  },
  {
   "cell_type": "code",
   "execution_count": 5,
   "metadata": {},
   "outputs": [],
   "source": [
    "nmi_all = pd.concat([NMIA2,NMIM1,NMIA1,NMIS3,NMIS2,NMIK4,NMIS1,NMIR1,NMIG1,NMIR2,NMIG2,NMIA3])\n",
    "nmi_all = nmi_all.reset_index(drop=True)"
   ]
  },
  {
   "cell_type": "code",
   "execution_count": 11,
   "metadata": {},
   "outputs": [
    {
     "name": "stdout",
     "output_type": "stream",
     "text": [
      "AESTTime    52560\n",
      "Quantity    38704\n",
      "Unit            1\n",
      "Nmi            12\n",
      "dtype: int64\n"
     ]
    }
   ],
   "source": [
    "# Check how many unique values in each columns\n",
    "uniqueValues = nmi_all.nunique() \n",
    "print(uniqueValues)"
   ]
  },
  {
   "cell_type": "code",
   "execution_count": 8,
   "metadata": {},
   "outputs": [
    {
     "data": {
      "text/html": [
       "<div>\n",
       "<style scoped>\n",
       "    .dataframe tbody tr th:only-of-type {\n",
       "        vertical-align: middle;\n",
       "    }\n",
       "\n",
       "    .dataframe tbody tr th {\n",
       "        vertical-align: top;\n",
       "    }\n",
       "\n",
       "    .dataframe thead th {\n",
       "        text-align: right;\n",
       "    }\n",
       "</style>\n",
       "<table border=\"1\" class=\"dataframe\">\n",
       "  <thead>\n",
       "    <tr style=\"text-align: right;\">\n",
       "      <th></th>\n",
       "      <th>AESTTime</th>\n",
       "      <th>Quantity</th>\n",
       "      <th>Unit</th>\n",
       "      <th>Nmi</th>\n",
       "    </tr>\n",
       "  </thead>\n",
       "  <tbody>\n",
       "    <tr>\n",
       "      <th>0</th>\n",
       "      <td>2017-10-01 00:00:00</td>\n",
       "      <td>4.52</td>\n",
       "      <td>kWh</td>\n",
       "      <td>NMIA2</td>\n",
       "    </tr>\n",
       "    <tr>\n",
       "      <th>1</th>\n",
       "      <td>2017-10-01 00:15:00</td>\n",
       "      <td>4.28</td>\n",
       "      <td>kWh</td>\n",
       "      <td>NMIA2</td>\n",
       "    </tr>\n",
       "    <tr>\n",
       "      <th>2</th>\n",
       "      <td>2017-10-01 00:30:00</td>\n",
       "      <td>4.37</td>\n",
       "      <td>kWh</td>\n",
       "      <td>NMIA2</td>\n",
       "    </tr>\n",
       "    <tr>\n",
       "      <th>3</th>\n",
       "      <td>2017-10-01 00:45:00</td>\n",
       "      <td>4.65</td>\n",
       "      <td>kWh</td>\n",
       "      <td>NMIA2</td>\n",
       "    </tr>\n",
       "    <tr>\n",
       "      <th>4</th>\n",
       "      <td>2017-10-01 01:00:00</td>\n",
       "      <td>5.10</td>\n",
       "      <td>kWh</td>\n",
       "      <td>NMIA2</td>\n",
       "    </tr>\n",
       "    <tr>\n",
       "      <th>...</th>\n",
       "      <td>...</td>\n",
       "      <td>...</td>\n",
       "      <td>...</td>\n",
       "      <td>...</td>\n",
       "    </tr>\n",
       "    <tr>\n",
       "      <th>245275</th>\n",
       "      <td>2018-09-30 21:30:00</td>\n",
       "      <td>7.33</td>\n",
       "      <td>kWh</td>\n",
       "      <td>NMIA3</td>\n",
       "    </tr>\n",
       "    <tr>\n",
       "      <th>245276</th>\n",
       "      <td>2018-09-30 22:00:00</td>\n",
       "      <td>7.32</td>\n",
       "      <td>kWh</td>\n",
       "      <td>NMIA3</td>\n",
       "    </tr>\n",
       "    <tr>\n",
       "      <th>245277</th>\n",
       "      <td>2018-09-30 22:30:00</td>\n",
       "      <td>7.38</td>\n",
       "      <td>kWh</td>\n",
       "      <td>NMIA3</td>\n",
       "    </tr>\n",
       "    <tr>\n",
       "      <th>245278</th>\n",
       "      <td>2018-09-30 23:00:00</td>\n",
       "      <td>7.13</td>\n",
       "      <td>kWh</td>\n",
       "      <td>NMIA3</td>\n",
       "    </tr>\n",
       "    <tr>\n",
       "      <th>245279</th>\n",
       "      <td>2018-09-30 23:30:00</td>\n",
       "      <td>7.42</td>\n",
       "      <td>kWh</td>\n",
       "      <td>NMIA3</td>\n",
       "    </tr>\n",
       "  </tbody>\n",
       "</table>\n",
       "<p>245280 rows × 4 columns</p>\n",
       "</div>"
      ],
      "text/plain": [
       "                   AESTTime  Quantity Unit    Nmi\n",
       "0       2017-10-01 00:00:00      4.52  kWh  NMIA2\n",
       "1       2017-10-01 00:15:00      4.28  kWh  NMIA2\n",
       "2       2017-10-01 00:30:00      4.37  kWh  NMIA2\n",
       "3       2017-10-01 00:45:00      4.65  kWh  NMIA2\n",
       "4       2017-10-01 01:00:00      5.10  kWh  NMIA2\n",
       "...                     ...       ...  ...    ...\n",
       "245275  2018-09-30 21:30:00      7.33  kWh  NMIA3\n",
       "245276  2018-09-30 22:00:00      7.32  kWh  NMIA3\n",
       "245277  2018-09-30 22:30:00      7.38  kWh  NMIA3\n",
       "245278  2018-09-30 23:00:00      7.13  kWh  NMIA3\n",
       "245279  2018-09-30 23:30:00      7.42  kWh  NMIA3\n",
       "\n",
       "[245280 rows x 4 columns]"
      ]
     },
     "execution_count": 8,
     "metadata": {},
     "output_type": "execute_result"
    }
   ],
   "source": [
    "#nmi_all[\"Unit\"].unique()\n",
    "nmi_all.loc[nmi_all[\"Unit\"] ==\"Mwh\",'Quantity'] = nmi_all[\"Quantity\"] * 1000\n",
    "nmi_all.sort_values(\"Quantity\")\n",
    "nmi_all"
   ]
  },
  {
   "cell_type": "code",
   "execution_count": 10,
   "metadata": {},
   "outputs": [],
   "source": [
    "nmi_all[\"Unit\"] = \"kWh\""
   ]
  },
  {
   "cell_type": "code",
   "execution_count": null,
   "metadata": {},
   "outputs": [],
   "source": [
    "uniqueValues = nmi_all.nunique() \n",
    "print(uniqueValues)"
   ]
  },
  {
   "cell_type": "code",
   "execution_count": null,
   "metadata": {},
   "outputs": [],
   "source": [
    "nmi_all_info = pd.merge(nmi_all, nmi_info, how='left', on='Nmi')\n",
    "# nmi_all_info[\"Year\"]=pd.DatetimeIndex(nmi_all_info[\"AESTTime\"]).year\n",
    "# nmi_all_info[\"Year\"] = nmi_all_info[\"Year\"].astype(int)\n",
    "nmi_all_info.head()\n",
    "#nmi_all_info.dtypes"
   ]
  },
  {
   "cell_type": "code",
   "execution_count": null,
   "metadata": {},
   "outputs": [],
   "source": [
    "# conver string to datetime\n",
    "nmi_all_info[\"AESTTime\"] = pd.to_datetime(nmi_all_info[\"AESTTime\"])"
   ]
  },
  {
   "cell_type": "code",
   "execution_count": null,
   "metadata": {},
   "outputs": [],
   "source": [
    "# Grab the max and min year in NMI dataframe\n",
    "import datetime\n",
    "start_time = nmi_all_info[\"AESTTime\"].min()\n",
    "startYear = start_time.year\n",
    "finish_time = nmi_all_info[\"AESTTime\"].max()\n",
    "finishYear = finish_time.year\n",
    "print(startYear)\n",
    "print(finishYear)"
   ]
  },
  {
   "cell_type": "code",
   "execution_count": null,
   "metadata": {},
   "outputs": [],
   "source": [
    "from datetime import datetime, timedelta\n",
    "# input year and month\n",
    "yearMonthStart = f'{startYear}-10'\n",
    "  \n",
    "# getting date of first Sunday in Oct.\n",
    "dst_start_time = numpy.busday_offset(yearMonthStart, 0, \n",
    "                           roll='forward', \n",
    "                           weekmask='Sun')\n",
    "# input year and month\n",
    "yearMonthFinish = f'{finishYear}-04'\n",
    "  \n",
    "# getting date of first Sunday in Apr.\n",
    "dst_finish_time = numpy.busday_offset(yearMonthFinish, 0, \n",
    "                           roll='forward', \n",
    "                           weekmask='Sun')\n",
    "\n",
    "dst_start_dt = datetime.strptime(f'{dst_start_time}  02:00:00', '%Y-%m-%d %H:%M:%S')\n",
    "dst_finish_dt = datetime.strptime(f'{dst_finish_time}  03:00:00', '%Y-%m-%d %H:%M:%S')\n",
    "print(dst_start_dt)\n",
    "print(dst_finish_dt)"
   ]
  },
  {
   "cell_type": "code",
   "execution_count": null,
   "metadata": {},
   "outputs": [],
   "source": [
    "# create dataframe with NMI in VIC, NSW, and WA which need to change to local time\n",
    "df_dst = nmi_all_info.loc[(nmi_all_info[\"State\"]==\"VIC\") | (nmi_all_info[\"State\"]==\"NSW\")]\n",
    "df_dst.loc[(df_dst[\"AESTTime\"] >= dst_start_dt)&(df_dst[\"AESTTime\"] < dst_finish_dt),'LocalTime'] = df_dst[\"AESTTime\"] + timedelta(hours=1)\n",
    "df_wa = nmi_all_info.loc[(nmi_all_info[\"State\"]==\"WA\")]\n",
    "df_wa['LocalTime'] = df_wa[\"AESTTime\"] - timedelta(hours=2)\n",
    "df_qld = nmi_all_info.loc[(nmi_all_info[\"State\"]==\"QLD\")]\n",
    "df_qld[\"LocalTime\"] = df_qld[\"AESTTime\"]\n",
    "#df_wa['LocalTime'] = df_dst[\"AESTTime\"] - timedelta(hours=2)\n",
    "df_dst.head()"
   ]
  },
  {
   "cell_type": "code",
   "execution_count": null,
   "metadata": {},
   "outputs": [],
   "source": [
    "# Fill no time difference fild with AEST Time.\n",
    "nmi_local_time = pd.concat([df_dst,df_wa,df_qld])\n",
    "nmi_local_time.LocalTime.fillna(nmi_local_time.AESTTime, inplace=True)\n",
    "nmi_local_time"
   ]
  },
  {
   "cell_type": "code",
   "execution_count": null,
   "metadata": {},
   "outputs": [],
   "source": []
  },
  {
   "cell_type": "code",
   "execution_count": null,
   "metadata": {},
   "outputs": [],
   "source": []
  },
  {
   "cell_type": "code",
   "execution_count": null,
   "metadata": {},
   "outputs": [],
   "source": [
    "df_dst.LocalTime.fillna(df_dst.AESTTime, inplace=True)\n",
    "df_dst"
   ]
  },
  {
   "cell_type": "code",
   "execution_count": null,
   "metadata": {},
   "outputs": [],
   "source": [
    "# if nmi_all_info[\"State\"].isin([\"VIC\",\"NSW\"]):\n",
    "    \n",
    "    nmi_all_info.loc[((nmi_all_info[\"AESTTime\"] >= dst_start_dt)&(nmi_all_info[\"AESTTime\"] < dst_finish_dt))& ((nmi_all_info[\"State\"]==\"VIC\")|(nmi_all_info[\"State\"]==\"NSW\")),'LocalTime'] = nmi_all_info[\"AESTTime\"] + timedelta(hours=1)"
   ]
  },
  {
   "cell_type": "code",
   "execution_count": null,
   "metadata": {},
   "outputs": [],
   "source": [
    "# conver string to datetime\n",
    "# NMIA3[\"AESTTime\"] = pd.to_datetime(NMIA3[\"AESTTime\"])\n",
    "# NMIA2[\"AESTTime\"] = pd.to_datetime(NMIA2[\"AESTTime\"])\n",
    "# NMIM1[\"AESTTime\"] = pd.to_datetime(NMIM1[\"AESTTime\"])\n",
    "# NMIA1[\"AESTTime\"] = pd.to_datetime(NMIA1[\"AESTTime\"])\n",
    "# NMIS3[\"AESTTime\"] = pd.to_datetime(NMIS3[\"AESTTime\"])\n",
    "# NMIS2[\"AESTTime\"] = pd.to_datetime(NMIS2[\"AESTTime\"])\n",
    "# NMIK4[\"AESTTime\"] = pd.to_datetime(NMIK4[\"AESTTime\"])\n",
    "# NMIS1[\"AESTTime\"] = pd.to_datetime(NMIS1[\"AESTTime\"])\n",
    "# NMIR1[\"AESTTime\"] = pd.to_datetime(NMIR1[\"AESTTime\"])\n",
    "# NMIG1[\"AESTTime\"] = pd.to_datetime(NMIG1[\"AESTTime\"])\n",
    "# NMIR2[\"AESTTime\"] = pd.to_datetime(NMIR2[\"AESTTime\"])\n",
    "# NMIG2[\"AESTTime\"] = pd.to_datetime(NMIG2[\"AESTTime\"])"
   ]
  },
  {
   "cell_type": "code",
   "execution_count": null,
   "metadata": {},
   "outputs": [],
   "source": [
    "# Get the NMI list which need convert to local time\n",
    "dst_nmi_vic = nmi_info[nmi_info['State'].isin([\"VIC\"])]\n",
    "dst_list_vic = dst_nmi_vic.Nmi\n",
    "dst_nmi_nsw = nmi_info[nmi_info['State'].isin([\"NSW\"])]\n",
    "dst_list_nsw = dst_nmi_nsw.Nmi\n",
    "print(dst_list_nsw)"
   ]
  },
  {
   "cell_type": "code",
   "execution_count": null,
   "metadata": {},
   "outputs": [],
   "source": [
    "nmi_vic = pd.concat([NMIA2,NMIA1,NMIG2,NMIA3])\n",
    "nmi_vic['State'] = 'VIC'\n",
    "nmi_nsw = pd.concat([NMIS2,NMIS3,NMIG1])\n",
    "nmi_nsw['State'] = 'NSW'\n",
    "nmi_dst = pd.concat([nmi_vic,nmi_nsw])\n",
    "nmi_dst"
   ]
  },
  {
   "cell_type": "code",
   "execution_count": null,
   "metadata": {},
   "outputs": [],
   "source": []
  },
  {
   "cell_type": "code",
   "execution_count": null,
   "metadata": {},
   "outputs": [],
   "source": []
  },
  {
   "cell_type": "markdown",
   "metadata": {},
   "source": [
    "# Convert time to local time"
   ]
  },
  {
   "cell_type": "code",
   "execution_count": null,
   "metadata": {},
   "outputs": [],
   "source": [
    "import pandas as pd\n",
    "import numpy\n",
    "from datetime import datetime\n",
    "df_nmi_s2 = pd.read_csv(\"Data/ConsumptionData/NMIS2.csv\")\n",
    "df_nmi_s2.head()"
   ]
  },
  {
   "cell_type": "code",
   "execution_count": null,
   "metadata": {},
   "outputs": [],
   "source": []
  },
  {
   "cell_type": "code",
   "execution_count": null,
   "metadata": {},
   "outputs": [],
   "source": [
    "# input year and month\n",
    "yearMonthStart = '2017-10'\n",
    "  \n",
    "# getting date of first Sunday in Oct.\n",
    "dst_start_time = numpy.busday_offset(yearMonthStart, 0, \n",
    "                           roll='forward', \n",
    "                           weekmask='Sun')\n",
    "# input year and month\n",
    "yearMonthFinish = '2018-04'\n",
    "  \n",
    "# getting date of first Sunday in Apr.\n",
    "dst_finish_time = numpy.busday_offset(yearMonthFinish, 0, \n",
    "                           roll='forward', \n",
    "                           weekmask='Sun')\n",
    "\n",
    "dst_start_dt = datetime.strptime(f'{dst_start_time}  02:00:00', '%Y-%m-%d %H:%M:%S')\n",
    "dst_finish_dt = datetime.strptime(f'{dst_finish_time}  03:00:00', '%Y-%m-%d %H:%M:%S')\n"
   ]
  },
  {
   "cell_type": "code",
   "execution_count": null,
   "metadata": {},
   "outputs": [],
   "source": [
    "from datetime import datetime, timedelta\n",
    "\n",
    "df_nmi_s2.loc[(df_nmi_s2[\"AESTTime\"] >= dst_start_dt)&(df_nmi_s2[\"AESTTime\"] < dst_finish_dt),'LocalTime'] = df_nmi_s2[\"AESTTime\"] + timedelta(hours=1)\n",
    "\n",
    "#f_nmi_s2.loc[df_nmi_s2[\"AESTTime\"] >= dst_start_dt & df_nmi_s2[\"AESTTime\"] < dst_finish_dt,'LocalTime'] = df_nmi_s2[\"AESTTime\"] + timedelta(hours=1)\n",
    "    #f_nmi_s2[\"LocalTime\"] = df_nmi_s2[\"AESTTime\"] + timedelta(hours=1)\n",
    "df_nmi_s2"
   ]
  },
  {
   "cell_type": "code",
   "execution_count": null,
   "metadata": {},
   "outputs": [],
   "source": [
    "df_nmi_s2.LocalTime.fillna(df_nmi_s2.AESTTime, inplace=True)\n",
    "df_nmi_s2"
   ]
  },
  {
   "cell_type": "code",
   "execution_count": null,
   "metadata": {},
   "outputs": [],
   "source": [
    "df_nmi_s2[\"Month\"]=pd.DatetimeIndex(df_nmi_s2[\"AESTTime\"]).month\n",
    "df_nmi_s2[\"Weekday\"]=pd.DatetimeIndex(df_nmi_s2[\"AESTTime\"]).weekday\n",
    "df_nmi_s2[\"Week\"]=pd.DatetimeIndex(df_nmi_s2[\"AESTTime\"]).week\n",
    "df_nmi_s2[\"Hour\"]=pd.DatetimeIndex(df_nmi_s2[\"AESTTime\"]).hour\n",
    "df_nmi_s2"
   ]
  },
  {
   "cell_type": "code",
   "execution_count": null,
   "metadata": {},
   "outputs": [],
   "source": [
    "If df_nmi_s2[\"Month\"]>=10 and df_nmi_s2[\"Month\"]<=4 and df_nmi_s2[\"Weekday\"]=7 and df_nmi_s2[\"Hour\"]>=2"
   ]
  },
  {
   "cell_type": "code",
   "execution_count": null,
   "metadata": {},
   "outputs": [],
   "source": [
    "df_nmi_s2.dtypes"
   ]
  },
  {
   "cell_type": "code",
   "execution_count": null,
   "metadata": {},
   "outputs": [],
   "source": [
    "# from datetime import datetime, timedelta\n",
    "# hours = 5\n",
    "# df_nmi_s2[\"AESTTime\"] = datetime.strptime(df_nmi_s2[\"AESTTime\"], '%b %d %Y %I:%M%p')\n",
    "future_time = df_nmi_s2[\"AESTTime\"] + timedelta(hours=1)\n",
    "future_time"
   ]
  },
  {
   "cell_type": "code",
   "execution_count": null,
   "metadata": {},
   "outputs": [],
   "source": []
  },
  {
   "cell_type": "markdown",
   "metadata": {},
   "source": [
    "# Read all csv files and extract name into a list."
   ]
  },
  {
   "cell_type": "code",
   "execution_count": null,
   "metadata": {},
   "outputs": [],
   "source": [
    "import os\n",
    "import pandas as pd\n",
    "#import glob\n",
    "path = \"Data/ConsumptionData/\"\n",
    "file_list = os.listdir(path)\n",
    "name_list = []\n",
    "for filename in file_list:\n",
    "    #print(filename)\n",
    "    if filename.endswith(\".csv\"):\n",
    "        #table_list.append(pd.read_csv(filename,sep=\"|\"))\n",
    "        name_list.append(os.path.splitext(filename)[0])\n",
    "print(name_list)\n",
    "len(name_list)"
   ]
  },
  {
   "cell_type": "code",
   "execution_count": null,
   "metadata": {},
   "outputs": [],
   "source": [
    "NMIA3 = pd.read_csv(path + \"NMIA3\" + \".csv\")\n",
    "NMIA2 = pd.read_csv(path + \"NMIA2\" + \".csv\")\n",
    "NMIM1 = pd.read_csv(path + \"NMIM1\" + \".csv\")\n",
    "NMIA1 = pd.read_csv(path + \"NMIA1\" + \".csv\")\n",
    "NMIS3 = pd.read_csv(path + \"NMIS3\" + \".csv\")\n",
    "NMIS2 = pd.read_csv(path + \"NMIS2\" + \".csv\")\n",
    "NMIK4 = pd.read_csv(path + \"NMIK4\" + \".csv\")\n",
    "NMIS1 = pd.read_csv(path + \"NMIS1\" + \".csv\")\n",
    "NMIR1 = pd.read_csv(path + \"NMIR1\" + \".csv\")\n",
    "NMIG1 = pd.read_csv(path + \"NMIG1\" + \".csv\")\n",
    "NMIR2 = pd.read_csv(path + \"NMIR2\" + \".csv\")\n",
    "NMIG2 = pd.read_csv(path + \"NMIG2\" + \".csv\")\n",
    "NMIM1.head()"
   ]
  },
  {
   "cell_type": "code",
   "execution_count": null,
   "metadata": {},
   "outputs": [],
   "source": [
    "nmi_info = pd.read_csv(\"Data/nmi_info.csv\")\n",
    "nmi_info.head()"
   ]
  },
  {
   "cell_type": "code",
   "execution_count": null,
   "metadata": {},
   "outputs": [],
   "source": [
    "# Get the NMI list which need convert to local time\n",
    "dst_nmi = nmi_info[nmi_info['State'].isin([\"VIC\", \"NSW\"])]\n",
    "dst_nmi.Nmi"
   ]
  },
  {
   "cell_type": "code",
   "execution_count": null,
   "metadata": {},
   "outputs": [],
   "source": []
  },
  {
   "cell_type": "code",
   "execution_count": null,
   "metadata": {},
   "outputs": [],
   "source": []
  },
  {
   "cell_type": "code",
   "execution_count": null,
   "metadata": {},
   "outputs": [],
   "source": []
  },
  {
   "cell_type": "code",
   "execution_count": null,
   "metadata": {},
   "outputs": [],
   "source": []
  },
  {
   "cell_type": "code",
   "execution_count": null,
   "metadata": {},
   "outputs": [],
   "source": []
  },
  {
   "cell_type": "code",
   "execution_count": null,
   "metadata": {},
   "outputs": [],
   "source": []
  },
  {
   "cell_type": "code",
   "execution_count": null,
   "metadata": {},
   "outputs": [],
   "source": [
    "if isinstance(NMIA3, pd.DataFrame):\n",
    "    "
   ]
  },
  {
   "cell_type": "code",
   "execution_count": null,
   "metadata": {},
   "outputs": [],
   "source": [
    "# Grab file path with glob\n",
    "import glob\n",
    "path = \"Data/ConsumptionData/\"\n",
    "all_files = glob.glob(path + \"/*.csv\")\n",
    "all_files"
   ]
  },
  {
   "cell_type": "code",
   "execution_count": null,
   "metadata": {},
   "outputs": [],
   "source": [
    "li = []\n",
    "for filename in all_files:\n",
    "    df = pd.read_csv(filename, index_col=None, header=0)\n",
    "    li.append(df)\n",
    "li"
   ]
  },
  {
   "cell_type": "code",
   "execution_count": null,
   "metadata": {},
   "outputs": [],
   "source": [
    "df = pd.concat(li, axis=0, ignore_index = True)\n",
    "df"
   ]
  },
  {
   "cell_type": "code",
   "execution_count": null,
   "metadata": {},
   "outputs": [],
   "source": []
  },
  {
   "cell_type": "code",
   "execution_count": null,
   "metadata": {},
   "outputs": [],
   "source": []
  },
  {
   "cell_type": "code",
   "execution_count": null,
   "metadata": {},
   "outputs": [],
   "source": [
    "df_nmi = pd.read_csv(\"Data/nmi_info.csv\")\n",
    "df_nmi.head()"
   ]
  },
  {
   "cell_type": "code",
   "execution_count": null,
   "metadata": {},
   "outputs": [],
   "source": [
    "import pandas as pd\n",
    "#thismodule = sys.modules[__name__]\n",
    "nmi = [\"NMIA1\", \"NMIA2\", \"NMIA3\", \"NMIG1\", \"NMIG2\", \"NMIK4\", \"NMIM1\", \"NMIR1\", \"NMIR2\", \"NMIS1\", \"NMIS2\", \"NMIS3\"]\n",
    "for m in nmi:\n",
    "    #df_x = f'NMI{m}'\n",
    "    #setattr(thismodule, i,df[df.names==m])\n",
    "    exec('%s = pd.DataFrame()' %m)\n",
    "    m= pd.read_csv(f'Data/ConsumptionData/{m}'.csv)\n",
    "    #f'NMI{m}' = pd.read_csv(f'Data/ConsumptionData/NMI{m}'.csv)"
   ]
  },
  {
   "cell_type": "code",
   "execution_count": null,
   "metadata": {},
   "outputs": [],
   "source": []
  },
  {
   "cell_type": "code",
   "execution_count": null,
   "metadata": {},
   "outputs": [],
   "source": []
  },
  {
   "cell_type": "code",
   "execution_count": null,
   "metadata": {},
   "outputs": [],
   "source": []
  }
 ],
 "metadata": {
  "kernelspec": {
   "display_name": "Python 3",
   "language": "python",
   "name": "python3"
  },
  "language_info": {
   "codemirror_mode": {
    "name": "ipython",
    "version": 3
   },
   "file_extension": ".py",
   "mimetype": "text/x-python",
   "name": "python",
   "nbconvert_exporter": "python",
   "pygments_lexer": "ipython3",
   "version": "3.6.10"
  }
 },
 "nbformat": 4,
 "nbformat_minor": 4
}
