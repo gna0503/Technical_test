{
 "cells": [
  {
   "cell_type": "code",
   "execution_count": 5,
   "id": "77a6c9c7-7ab4-4b61-9486-6cf2660f7ccb",
   "metadata": {},
   "outputs": [],
   "source": [
    "import pandas as pd\n",
    "import numpy as np"
   ]
  },
  {
   "cell_type": "code",
   "execution_count": null,
   "id": "c6f40f88-8dbe-4fb0-b11a-b492efeb3252",
   "metadata": {},
   "outputs": [],
   "source": [
    "nmi_data = pd.read_csv(\"NMI_Consumption.csv\")\n",
    "nmi_data.head()"
   ]
  },
  {
   "cell_type": "code",
   "execution_count": 6,
   "id": "01f3e2ae-d770-4e71-ae6c-44196c5ed21c",
   "metadata": {},
   "outputs": [],
   "source": [
    "def show_operation_hour(nmi):\n",
    "    # Group by dataframe and find the median, std and max of Quantity column\n",
    "    nmi_data = pd.read_csv(\"NMI_Consumption.csv\")\n",
    "    nmi_aggregate = nmi_data[[\"Quantity\",\"Nmi\"]]\n",
    "    nmi_median = nmi_aggregate.groupby(\"Nmi\").median()\n",
    "    nmi_std = nmi_aggregate.groupby(\"Nmi\").std()\n",
    "    max_opt = nmi_median + nmi_std*4\n",
    "    min_opt = nmi_median - nmi_std \n",
    "    max_opt.reset_index(inplace=True)\n",
    "    min_opt.reset_index(inplace=True)\n",
    "    filt = (max_opt[\"Nmi\"] == f\"{nmi}\")\n",
    "    max_qty = max_opt[filt][\"Quantity\"].values[0]\n",
    "    min_qty = min_opt[filt][\"Quantity\"].values[0]\n",
    "    nmi_operating_hour= nmi_data.loc[(nmi_data['Nmi'] == nmi) & (nmi_data['Quantity']>= min_qty) & (nmi_data['Quantity'] <= max_qty)]\n",
    "    op_hours = (nmi_operating_hour[\"Interval\"].sum())/60\n",
    "\n",
    "    return op_hours\n"
   ]
  },
  {
   "cell_type": "code",
   "execution_count": 7,
   "id": "85340d7b-e374-40a0-9d0c-deb6bc727b09",
   "metadata": {},
   "outputs": [
    {
     "ename": "NameError",
     "evalue": "name 'NMIA2' is not defined",
     "output_type": "error",
     "traceback": [
      "\u001b[0;31m---------------------------------------------------------------------------\u001b[0m",
      "\u001b[0;31mNameError\u001b[0m                                 Traceback (most recent call last)",
      "Input \u001b[0;32mIn [7]\u001b[0m, in \u001b[0;36m<cell line: 1>\u001b[0;34m()\u001b[0m\n\u001b[0;32m----> 1\u001b[0m show_operation_hour(\u001b[43mNMIA2\u001b[49m)\n",
      "\u001b[0;31mNameError\u001b[0m: name 'NMIA2' is not defined"
     ]
    }
   ],
   "source": [
    "show_operation_hour(\"NMIA2\")"
   ]
  },
  {
   "cell_type": "code",
   "execution_count": null,
   "id": "2b084217-94e5-40bb-9775-00203ae77613",
   "metadata": {},
   "outputs": [],
   "source": [
    "nmi_data = pd.read_csv(\"NMI_Consumption.csv\")\n",
    "nmi_aggregate = nmi_data[[\"Quantity\",\"Nmi\"]]\n",
    "nmi_median = nmi_aggregate.groupby(\"Nmi\").median()\n",
    "nmi_std = nmi_aggregate.groupby(\"Nmi\").std()"
   ]
  },
  {
   "cell_type": "code",
   "execution_count": null,
   "id": "d6acee56-bf56-4447-ab66-3dad12ab2adf",
   "metadata": {},
   "outputs": [],
   "source": [
    "max_opt = nmi_median + nmi_std*4\n",
    "#min_opt = nmi_median - nmi_std*4\n",
    "min_opt = nmi_median - nmi_std \n",
    "max_opt.reset_index(inplace=True)\n",
    "min_opt.reset_index(inplace=True)\n",
    "max_opt.head()"
   ]
  },
  {
   "cell_type": "code",
   "execution_count": null,
   "id": "f9eba944-3490-4d60-b7a9-571b667a4cb0",
   "metadata": {},
   "outputs": [],
   "source": [
    "filt = (max_opt[\"Nmi\"] == \"NMIA2\")\n",
    "max_qty = max_opt[filt][\"Quantity\"].values[0]\n",
    "# min_qty = min_opt[filt][\"Quantity\"][0]\n",
    "print(max_qty)\n",
    "#max_qty.info()"
   ]
  },
  {
   "cell_type": "code",
   "execution_count": null,
   "id": "c8131de7-bfe3-43e1-9e0b-46330a1c170e",
   "metadata": {},
   "outputs": [],
   "source": []
  },
  {
   "cell_type": "code",
   "execution_count": null,
   "id": "ec048529-0848-47b0-9177-e8d5b45b46a9",
   "metadata": {},
   "outputs": [],
   "source": []
  },
  {
   "cell_type": "code",
   "execution_count": null,
   "id": "0cab038a-ab87-4d7c-88ef-c196152689b4",
   "metadata": {},
   "outputs": [],
   "source": []
  },
  {
   "cell_type": "code",
   "execution_count": null,
   "id": "f62b12ba-75a9-4149-a95a-5d0b73298e62",
   "metadata": {},
   "outputs": [],
   "source": []
  },
  {
   "cell_type": "code",
   "execution_count": null,
   "id": "6ef10e6f-a97f-4bd2-b8a7-0a41465445c4",
   "metadata": {},
   "outputs": [],
   "source": []
  },
  {
   "cell_type": "code",
   "execution_count": null,
   "id": "6c037bbd-733b-4199-ae3d-da5f8a927f5c",
   "metadata": {},
   "outputs": [],
   "source": [
    "show_operation_hour(\"NMIA2\")"
   ]
  },
  {
   "cell_type": "code",
   "execution_count": null,
   "id": "543023b7-5c7c-4532-b411-ffc7e9b00b3a",
   "metadata": {},
   "outputs": [],
   "source": [
    "# Group by dataframe and find the median, std and max of Quantity column\n",
    "nmi_aggregate = nmi_data[[\"Quantity\",\"Nmi\"]]\n",
    "nmi_median = nmi_aggregate.groupby(\"Nmi\").median()\n",
    "nmi_std = nmi_aggregate.groupby(\"Nmi\").std()\n",
    "max_opt = nmi_median + nmi_std*4\n",
    "#min_opt = nmi_median - nmi_std*4\n",
    "min_opt = nmi_median - nmi_std \n",
    "max_opt.reset_index(inplace=True)\n",
    "min_opt.reset_index(inplace=True)\n",
    "filt = (max_opt[\"Nmi\"] == \"NMIA1\")\n",
    "print(max_opt[filt][\"Quantity\"][0])\n",
    "print(min_opt[filt][\"Quantity\"][0])"
   ]
  },
  {
   "cell_type": "code",
   "execution_count": null,
   "id": "17240ad9-cd8c-408e-8853-cc97b5a00d31",
   "metadata": {},
   "outputs": [],
   "source": [
    "max_qty = max_opt[filt][\"Quantity\"][0]\n",
    "min_qty = min_opt[filt][\"Quantity\"][0]\n",
    "print(min_qty)"
   ]
  },
  {
   "cell_type": "code",
   "execution_count": null,
   "id": "130142ed-bcbb-452a-979a-9ab09f35d6ae",
   "metadata": {},
   "outputs": [],
   "source": [
    "#df.loc[df['channel'].isin(['sale','fullprice'])]\n",
    "Nmi = \"NMIA2\"\n",
    "nmi_operating_hour= nmi_data.loc[(nmi_data['Nmi'] == Nmi) & (nmi_data['Quantity']>= min_qty) & (nmi_data['Quantity'] <= max_qty)]\n",
    "op_hours = (nmi_operating_hour[\"Interval\"].sum())/60\n",
    "#nmi_opt.head()\n",
    "print(op_hours)"
   ]
  },
  {
   "cell_type": "code",
   "execution_count": null,
   "id": "43513a1a-1d91-4208-b392-1e0e0d956a62",
   "metadata": {},
   "outputs": [],
   "source": [
    "# nmi_df.median"
   ]
  },
  {
   "cell_type": "code",
   "execution_count": null,
   "id": "3e3364bc-b2e0-4d90-bb6e-03b52d27a2e7",
   "metadata": {},
   "outputs": [],
   "source": []
  },
  {
   "cell_type": "code",
   "execution_count": null,
   "id": "c533affe-75f6-4ff2-ac8b-5a5d4e29adfd",
   "metadata": {},
   "outputs": [],
   "source": [
    "# nmi_aggregate=nmi_data.groupby(\"Nmi\").agg({\"Quantity\":[\"min\",\"max\",\"median\",np.std]}).reset_index()\n",
    "# filt = (nmi_aggregate['Nmi'] == 'NMIA1')\n",
    "# nmi_df=nmi_aggregate[filt]\n",
    "# nmi_df.head(10)"
   ]
  },
  {
   "cell_type": "code",
   "execution_count": null,
   "id": "8dc33061-ec6b-4fcc-a157-e4ee72413e8d",
   "metadata": {},
   "outputs": [],
   "source": []
  },
  {
   "cell_type": "code",
   "execution_count": null,
   "id": "debfc954-d7e6-4bd4-afdb-3d99e37a349f",
   "metadata": {},
   "outputs": [],
   "source": []
  },
  {
   "cell_type": "code",
   "execution_count": null,
   "id": "6a27c344-48ad-4927-9c0d-9654db36fa36",
   "metadata": {},
   "outputs": [],
   "source": [
    "#nmi_opt = nmi_data[(nmi_data[\"Quantity\"]>= min_opt) & (nmi_data[\"Quantity\"] <= max_opt)]\n",
    "nmi_opt = nmi_data[nmi_data['Quantity'].between(min_opt, max_opt)]\n",
    "nmi_opt.head()"
   ]
  },
  {
   "cell_type": "code",
   "execution_count": null,
   "id": "7232884c-cf69-447c-bb88-4b9a71249b9a",
   "metadata": {},
   "outputs": [],
   "source": [
    "nmi_opt = nmi_data.query(f'Nmi == {Nmi}& Quantity>= {min_opt} & Quantity <= {max_opt}')"
   ]
  },
  {
   "cell_type": "code",
   "execution_count": null,
   "id": "9562e6b2-4974-4f1f-a6d1-61bcebd30cea",
   "metadata": {},
   "outputs": [],
   "source": []
  },
  {
   "cell_type": "code",
   "execution_count": null,
   "id": "819a70bd-4ea6-4064-bd23-97d12da76673",
   "metadata": {},
   "outputs": [],
   "source": []
  },
  {
   "cell_type": "code",
   "execution_count": null,
   "id": "9f44bb6b-beb0-4337-8da9-285b636cb0d9",
   "metadata": {},
   "outputs": [],
   "source": [
    "print(nmi_std)"
   ]
  },
  {
   "cell_type": "code",
   "execution_count": null,
   "id": "ab994a4a-2a88-4eeb-85c8-68388935a2a5",
   "metadata": {},
   "outputs": [],
   "source": [
    "#nmi_aggregate = nmi_aggregate.groupby(\"Nmi\").aggregate([min, np.median, max, np.std])\n",
    "print(nmi_std.loc[\"NMIA1\"])\n",
    "# nmi_aggregate.reset_index(inplace=True)\n",
    "# nmi_aggregate.head(2)"
   ]
  },
  {
   "cell_type": "code",
   "execution_count": null,
   "id": "cc2ca837-03aa-4725-851b-a937845aa7e0",
   "metadata": {},
   "outputs": [],
   "source": [
    "print(nmi_median.loc[\"NMIA1\"])"
   ]
  },
  {
   "cell_type": "code",
   "execution_count": null,
   "id": "497f1f54-e3f3-4c59-9b95-4173f7539fa6",
   "metadata": {},
   "outputs": [],
   "source": [
    "NMI_id = \"NMIA2\"\n",
    "filt = (nmi_aggregate[\"Nmi\"] == NMI_id)\n",
    "median = nmi_aggregate[filt].Quantity.median\n",
    "print(median)"
   ]
  },
  {
   "cell_type": "code",
   "execution_count": null,
   "id": "e166abb9-c95a-4fd9-b5c7-009f7763cc70",
   "metadata": {},
   "outputs": [],
   "source": []
  }
 ],
 "metadata": {
  "kernelspec": {
   "display_name": "Python 3 (ipykernel)",
   "language": "python",
   "name": "python3"
  },
  "language_info": {
   "codemirror_mode": {
    "name": "ipython",
    "version": 3
   },
   "file_extension": ".py",
   "mimetype": "text/x-python",
   "name": "python",
   "nbconvert_exporter": "python",
   "pygments_lexer": "ipython3",
   "version": "3.8.3"
  }
 },
 "nbformat": 4,
 "nbformat_minor": 5
}
