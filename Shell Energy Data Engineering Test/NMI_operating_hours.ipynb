{
 "cells": [
  {
   "cell_type": "code",
   "execution_count": 1,
   "id": "77a6c9c7-7ab4-4b61-9486-6cf2660f7ccb",
   "metadata": {},
   "outputs": [],
   "source": [
    "import pandas as pd\n",
    "import numpy as np"
   ]
  },
  {
   "cell_type": "code",
   "execution_count": 2,
   "id": "01f3e2ae-d770-4e71-ae6c-44196c5ed21c",
   "metadata": {},
   "outputs": [],
   "source": [
    "def show_operation_hours(nmi):\n",
    "    # Group by dataframe and find the median, std and max of Quantity column\n",
    "    nmi_data = pd.read_csv(\"NMI_Consumption.csv\")\n",
    "    nmi_aggregate = nmi_data[[\"Quantity\",\"Nmi\"]]\n",
    "    nmi_median = nmi_aggregate.groupby(\"Nmi\").median()\n",
    "    nmi_std = nmi_aggregate.groupby(\"Nmi\").std()\n",
    "    max_opt = nmi_median + nmi_std*4\n",
    "    min_opt = nmi_median - nmi_std \n",
    "    max_opt.reset_index(inplace=True)\n",
    "    min_opt.reset_index(inplace=True)\n",
    "    filt = (max_opt[\"Nmi\"] == f\"{nmi}\")\n",
    "    max_qty = max_opt[filt][\"Quantity\"].values[0]\n",
    "    min_qty = min_opt[filt][\"Quantity\"].values[0]\n",
    "    nmi_operating_hour= nmi_data.loc[(nmi_data['Nmi'] == nmi) & (nmi_data['Quantity']>= min_qty) & (nmi_data['Quantity'] <= max_qty)]\n",
    "    op_hours = (nmi_operating_hour[\"Interval\"].sum())/60\n",
    "\n",
    "    return op_hours\n"
   ]
  },
  {
   "cell_type": "code",
   "execution_count": 3,
   "id": "85340d7b-e374-40a0-9d0c-deb6bc727b09",
   "metadata": {},
   "outputs": [
    {
     "data": {
      "text/plain": [
       "6168.75"
      ]
     },
     "execution_count": 3,
     "metadata": {},
     "output_type": "execute_result"
    }
   ],
   "source": [
    "show_operation_hours(\"NMIA1\")"
   ]
  },
  {
   "cell_type": "code",
   "execution_count": null,
   "id": "b12e7f9e-1f63-445a-b3bd-d24b11c01ef1",
   "metadata": {},
   "outputs": [],
   "source": []
  }
 ],
 "metadata": {
  "kernelspec": {
   "display_name": "Python 3 (ipykernel)",
   "language": "python",
   "name": "python3"
  },
  "language_info": {
   "codemirror_mode": {
    "name": "ipython",
    "version": 3
   },
   "file_extension": ".py",
   "mimetype": "text/x-python",
   "name": "python",
   "nbconvert_exporter": "python",
   "pygments_lexer": "ipython3",
   "version": "3.8.3"
  }
 },
 "nbformat": 4,
 "nbformat_minor": 5
}
