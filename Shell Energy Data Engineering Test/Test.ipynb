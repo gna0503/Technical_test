{
 "cells": [
  {
   "cell_type": "code",
   "execution_count": null,
   "metadata": {},
   "outputs": [],
   "source": [
    "import datetime\n",
    "import pytz"
   ]
  },
  {
   "cell_type": "code",
   "execution_count": null,
   "metadata": {},
   "outputs": [],
   "source": [
    "df_nmi_s2[\"Month\"]=pd.DatetimeIndex(df_nmi_s2[\"AESTTime\"]).month\n",
    "df_nmi_s2[\"Weekday\"]=pd.DatetimeIndex(df_nmi_s2[\"AESTTime\"]).weekday\n",
    "df_nmi_s2[\"Week\"]=pd.DatetimeIndex(df_nmi_s2[\"AESTTime\"]).week\n",
    "df_nmi_s2[\"Hour\"]=pd.DatetimeIndex(df_nmi_s2[\"AESTTime\"]).hour\n",
    "df_nmi_s2"
   ]
  },
  {
   "cell_type": "code",
   "execution_count": null,
   "metadata": {},
   "outputs": [],
   "source": [
    "If df_nmi_s2[\"Month\"]>=10 and df_nmi_s2[\"Month\"]<=4 and df_nmi_s2[\"Weekday\"]=7 and df_nmi_s2[\"Hour\"]>=2"
   ]
  },
  {
   "cell_type": "code",
   "execution_count": null,
   "metadata": {},
   "outputs": [],
   "source": [
    "df_nmi_s2.dtypes"
   ]
  },
  {
   "cell_type": "code",
   "execution_count": null,
   "metadata": {},
   "outputs": [],
   "source": [
    "# from datetime import datetime, timedelta\n",
    "# hours = 5\n",
    "# df_nmi_s2[\"AESTTime\"] = datetime.strptime(df_nmi_s2[\"AESTTime\"], '%b %d %Y %I:%M%p')\n",
    "future_time = df_nmi_s2[\"AESTTime\"] + timedelta(hours=1)\n",
    "future_time"
   ]
  },
  {
   "cell_type": "code",
   "execution_count": null,
   "metadata": {},
   "outputs": [],
   "source": []
  },
  {
   "cell_type": "code",
   "execution_count": null,
   "metadata": {},
   "outputs": [],
   "source": []
  },
  {
   "cell_type": "code",
   "execution_count": null,
   "metadata": {},
   "outputs": [],
   "source": []
  },
  {
   "cell_type": "code",
   "execution_count": 1,
   "metadata": {},
   "outputs": [
    {
     "name": "stdout",
     "output_type": "stream",
     "text": [
      "['NMIA3', 'NMIA2', 'NMIM1', 'NMIA1', 'NMIS3', 'NMIS2', 'NMIK4', 'NMIS1', 'NMIR1', 'NMIG1', 'NMIR2', 'NMIG2']\n"
     ]
    },
    {
     "data": {
      "text/plain": [
       "12"
      ]
     },
     "execution_count": 1,
     "metadata": {},
     "output_type": "execute_result"
    }
   ],
   "source": [
    "import os\n",
    "import pandas as pd\n",
    "#import glob\n",
    "path = \"Data/ConsumptionData/\"\n",
    "file_list = os.listdir(path)\n",
    "name_list = []\n",
    "for filename in file_list:\n",
    "    #print(filename)\n",
    "    if filename.endswith(\".csv\"):\n",
    "        #table_list.append(pd.read_csv(filename,sep=\"|\"))\n",
    "        name_list.append(os.path.splitext(filename)[0])\n",
    "print(name_list)\n",
    "len(name_list)"
   ]
  },
  {
   "cell_type": "code",
   "execution_count": 11,
   "metadata": {},
   "outputs": [
    {
     "ename": "SyntaxError",
     "evalue": "can't assign to literal (<ipython-input-11-675f3c4c79c9>, line 2)",
     "output_type": "error",
     "traceback": [
      "\u001b[0;36m  File \u001b[0;32m\"<ipython-input-11-675f3c4c79c9>\"\u001b[0;36m, line \u001b[0;32m2\u001b[0m\n\u001b[0;31m    {name} = pd.read_csv(path + name + \".csv\")\u001b[0m\n\u001b[0m    ^\u001b[0m\n\u001b[0;31mSyntaxError\u001b[0m\u001b[0;31m:\u001b[0m can't assign to literal\n"
     ]
    }
   ],
   "source": [
    "for name in name_list:\n",
    "    name = pd.read_csv(path + name + \".csv\")\n",
    "    #print(name)"
   ]
  },
  {
   "cell_type": "code",
   "execution_count": null,
   "metadata": {},
   "outputs": [],
   "source": [
    "table_list = []\n",
    "new_table_list = []\n",
    "\n",
    "for filename in :\n",
    "    if filename.endswith(\".csv\"):\n",
    "        table_list.append(pd.read_csv(filename,sep=\"|\"))\n",
    "        #new_table_list.append(filename.split(\".\")[0])\n",
    "        new_table_list.append(filename[:-4])"
   ]
  },
  {
   "cell_type": "code",
   "execution_count": null,
   "metadata": {},
   "outputs": [],
   "source": []
  },
  {
   "cell_type": "code",
   "execution_count": null,
   "metadata": {},
   "outputs": [],
   "source": []
  },
  {
   "cell_type": "code",
   "execution_count": null,
   "metadata": {},
   "outputs": [],
   "source": []
  },
  {
   "cell_type": "code",
   "execution_count": null,
   "metadata": {},
   "outputs": [],
   "source": []
  },
  {
   "cell_type": "code",
   "execution_count": null,
   "metadata": {},
   "outputs": [],
   "source": [
    "now = datetime.now()\n",
    "from_zone = tz.gettz('UTC')\n",
    "to_zone = tz.gettz('Australia/Sydney')\n",
    "utc = utc.replace(tzinfo=from_zone)\n",
    "central = utc.astimezone(to_zone)"
   ]
  },
  {
   "cell_type": "code",
   "execution_count": null,
   "metadata": {},
   "outputs": [],
   "source": [
    "UTC_datetime = datetime.datetime.utcnow()\n",
    "print(UTC_datetime)"
   ]
  },
  {
   "cell_type": "code",
   "execution_count": null,
   "metadata": {},
   "outputs": [],
   "source": [
    "UTC_datetime_timestamp = float(UTC_datetime.strftime(\"%s\"))\n",
    "print(UTC_datetime_timestamp)\n"
   ]
  },
  {
   "cell_type": "code",
   "execution_count": null,
   "metadata": {},
   "outputs": [],
   "source": [
    "local_datetime_converted = datetime.datetime.fromtimestamp(UTC_datetime_timestamp)\n",
    "print(local_datetime_converted)"
   ]
  },
  {
   "cell_type": "code",
   "execution_count": null,
   "metadata": {},
   "outputs": [],
   "source": [
    "# Now let’s take a look at converting a local Sydney time to UTC.\n",
    "dt = datetime.datetime(2022, 6, 13, 13, 3)\n",
    "print(dt)\n",
    "local_tz = pytz.timezone('Australia/Sydney')\n",
    "utc = local_tz.localize(dt)\n",
    "print(utc)"
   ]
  },
  {
   "cell_type": "code",
   "execution_count": null,
   "metadata": {},
   "outputs": [],
   "source": [
    "time_format = '%Y-%m-%d %H:%M:%S'\n",
    "local_time = utc.strftime(time_format)\n",
    "print(local_time)"
   ]
  },
  {
   "cell_type": "code",
   "execution_count": null,
   "metadata": {},
   "outputs": [],
   "source": []
  },
  {
   "cell_type": "code",
   "execution_count": null,
   "metadata": {},
   "outputs": [],
   "source": [
    "hours = 10\n",
    "new = dt + f'{hours}'\n",
    "print(new)"
   ]
  },
  {
   "cell_type": "code",
   "execution_count": null,
   "metadata": {},
   "outputs": [],
   "source": []
  },
  {
   "cell_type": "code",
   "execution_count": null,
   "metadata": {},
   "outputs": [],
   "source": [
    "# Now let’s take a look at converting a local Sydney time to UTC.\n",
    "dt = datetime.datetime(2022, 6, 12, 0, 30)\n",
    "print(dt)\n",
    "local_tz = pytz.timezone('Australia/Sydney')\n",
    "utc = local_tz.localize(dt)\n",
    "print(utc)"
   ]
  },
  {
   "cell_type": "code",
   "execution_count": null,
   "metadata": {},
   "outputs": [],
   "source": [
    "from_zone = tz.gettz('UTC')\n",
    "to_zone = tz.gettz('Australia/Sydney')\n",
    "utc = datetime.strptime('2011-01-21 02:37:21', '%Y-%m-%d %H:%M:%S')"
   ]
  },
  {
   "cell_type": "code",
   "execution_count": null,
   "metadata": {},
   "outputs": [],
   "source": [
    "from_zone = tz.gettz('UTC')\n",
    "to_zone = tz.gettz('Australia/Sydney')\n",
    "utc = utc.replace(tzinfo=from_zone)\n",
    "central = utc.astimezone(to_zone)"
   ]
  },
  {
   "cell_type": "code",
   "execution_count": null,
   "metadata": {},
   "outputs": [],
   "source": []
  },
  {
   "cell_type": "code",
   "execution_count": null,
   "metadata": {},
   "outputs": [],
   "source": [
    "from datetime import datetime\n",
    "from dateutil import tz\n",
    "\n",
    "# METHOD 1: Hardcode zones:\n",
    "from_zone = tz.gettz('UTC')\n",
    "to_zone = tz.gettz('America/New_York')"
   ]
  },
  {
   "cell_type": "code",
   "execution_count": null,
   "metadata": {},
   "outputs": [],
   "source": [
    "#utc = datetime.utcnow()\n",
    "utc = datetime.strptime('2011-01-21 02:37:21', '%Y-%m-%d %H:%M:%S')\n",
    "print(utc)"
   ]
  },
  {
   "cell_type": "code",
   "execution_count": null,
   "metadata": {},
   "outputs": [],
   "source": [
    "# Tell the datetime object that it's in UTC time zone since \n",
    "# datetime objects are 'naive' by default\n",
    "utc = utc.replace(tzinfo=from_zone)"
   ]
  },
  {
   "cell_type": "code",
   "execution_count": null,
   "metadata": {},
   "outputs": [],
   "source": [
    "# Convert time zone\n",
    "central = utc.astimezone(to_zone)"
   ]
  },
  {
   "cell_type": "code",
   "execution_count": null,
   "metadata": {},
   "outputs": [],
   "source": []
  },
  {
   "cell_type": "code",
   "execution_count": null,
   "metadata": {},
   "outputs": [],
   "source": [
    "print(central)"
   ]
  },
  {
   "cell_type": "code",
   "execution_count": null,
   "metadata": {},
   "outputs": [],
   "source": [
    "#utc_datetime = datetime.datetime(2020, 1, 1, 10, 0, 0, 0, tzinfo=datetime.timezone.utc)\n",
    "\n",
    "local_timezone = pytz.timezone(\"Australia/Sydney\")\n",
    "local_datetime = utc_datetime.replace(tzinfo=pytz.utc)\n",
    "#Convert the naive `utc_datetime` to an aware datetime\n",
    "\n",
    "\n",
    "local_datetime = local_datetime.astimezone(local_timezone)\n",
    "print(local_datetime)"
   ]
  },
  {
   "cell_type": "code",
   "execution_count": null,
   "metadata": {},
   "outputs": [],
   "source": []
  },
  {
   "cell_type": "code",
   "execution_count": null,
   "metadata": {},
   "outputs": [],
   "source": [
    "df_nmi_a1 = pd.read_csv(\"Data/ConsumptionData/NMIA1.csv\")\n",
    "df_nmi_a1.head()"
   ]
  },
  {
   "cell_type": "code",
   "execution_count": null,
   "metadata": {},
   "outputs": [],
   "source": []
  },
  {
   "cell_type": "code",
   "execution_count": null,
   "metadata": {},
   "outputs": [],
   "source": []
  },
  {
   "cell_type": "code",
   "execution_count": null,
   "metadata": {},
   "outputs": [],
   "source": [
    "local_tz = pytz.timezone('Australia/Melbourne')\n",
    "dt = local_tz.localize(dt)\n",
    "print(dt)"
   ]
  },
  {
   "cell_type": "code",
   "execution_count": null,
   "metadata": {},
   "outputs": [],
   "source": []
  },
  {
   "cell_type": "code",
   "execution_count": null,
   "metadata": {},
   "outputs": [],
   "source": []
  },
  {
   "cell_type": "code",
   "execution_count": null,
   "metadata": {},
   "outputs": [],
   "source": [
    "local_tz = pytz.timezone('Australia/Perth')\n",
    "dt = local_tz.localtime(dt)\n",
    "print(dt)"
   ]
  },
  {
   "cell_type": "code",
   "execution_count": null,
   "metadata": {},
   "outputs": [],
   "source": []
  },
  {
   "cell_type": "code",
   "execution_count": null,
   "metadata": {},
   "outputs": [],
   "source": []
  },
  {
   "cell_type": "code",
   "execution_count": null,
   "metadata": {},
   "outputs": [],
   "source": [
    "# convert a datetime to a date and add one column AESTDate\n",
    "df_nmi_a1[\"AESTDate\"]=pd.to_datetime(df_nmi_a1[\"AESTTime\"]).dt.date\n",
    "df_nmi_a1.head()"
   ]
  },
  {
   "cell_type": "markdown",
   "metadata": {},
   "source": [
    "# DST time for VIC and NSW"
   ]
  },
  {
   "cell_type": "code",
   "execution_count": null,
   "metadata": {},
   "outputs": [],
   "source": [
    "\n",
    "# import module\n",
    "import numpy\n",
    "from datetime import datetime\n",
    "  \n",
    "# input year and month\n",
    "yearMonthStart = '2017-10'\n",
    "  \n",
    "# getting date of first monday\n",
    "dst_start_time = numpy.busday_offset(yearMonthStart, 0, \n",
    "                           roll='forward', \n",
    "                           weekmask='Sun')\n",
    "# input year and month\n",
    "yearMonthFinish = '2018-04'\n",
    "  \n",
    "# getting date of first monday\n",
    "dst_finish_time = numpy.busday_offset(yearMonthFinish, 0, \n",
    "                           roll='forward', \n",
    "                           weekmask='Sun')\n",
    "\n",
    "dst_start_dt = datetime.strptime(f'{dst_start_time}  02:00:00', '%Y-%m-%d %H:%M:%S')\n",
    "dst_finish_dt = datetime.strptime(f'{dst_finish_time}  03:00:00', '%Y-%m-%d %H:%M:%S')\n",
    "print(dst_start_dt)\n",
    "type(dst_start_dt)\n",
    "print(dst_finish_dt)\n",
    "type(dst_finish_dt)\n",
    "  \n",
    "# display date\n",
    "print(dst_start_time)\n",
    "print(dst_finish_time)"
   ]
  },
  {
   "cell_type": "code",
   "execution_count": null,
   "metadata": {},
   "outputs": [],
   "source": [
    "\n",
    "\n",
    "dst_start_dt = datetime.strptime(f'{dst_start_time}  02:00:00', '%Y-%m-%d %H:%M:%S')\n",
    "dst_finish_dt = datetime.strptime(f'{dst_finish_time}  03:00:00', '%Y-%m-%d %H:%M:%S')\n",
    "print(dst_start_dt)\n",
    "type(dst_start_dt)\n",
    "print(dst_finish_dt)\n",
    "type(dst_finish_dt)"
   ]
  },
  {
   "cell_type": "code",
   "execution_count": null,
   "metadata": {},
   "outputs": [],
   "source": []
  },
  {
   "cell_type": "code",
   "execution_count": null,
   "metadata": {},
   "outputs": [],
   "source": []
  },
  {
   "cell_type": "code",
   "execution_count": null,
   "metadata": {},
   "outputs": [],
   "source": [
    "dst_finish_time.dtypes"
   ]
  },
  {
   "cell_type": "code",
   "execution_count": null,
   "metadata": {},
   "outputs": [],
   "source": []
  },
  {
   "cell_type": "code",
   "execution_count": null,
   "metadata": {},
   "outputs": [],
   "source": []
  },
  {
   "cell_type": "code",
   "execution_count": null,
   "metadata": {},
   "outputs": [],
   "source": [
    "import pandas as pd\n",
    "df_nmi_s2 = pd.read_csv(\"Data/ConsumptionData/NMIS2.csv\")\n",
    "df_nmi_s2.head()"
   ]
  },
  {
   "cell_type": "code",
   "execution_count": null,
   "metadata": {},
   "outputs": [],
   "source": []
  },
  {
   "cell_type": "code",
   "execution_count": null,
   "metadata": {},
   "outputs": [],
   "source": []
  },
  {
   "cell_type": "code",
   "execution_count": null,
   "metadata": {},
   "outputs": [],
   "source": []
  },
  {
   "cell_type": "code",
   "execution_count": null,
   "metadata": {},
   "outputs": [],
   "source": []
  }
 ],
 "metadata": {
  "kernelspec": {
   "display_name": "Python 3",
   "language": "python",
   "name": "python3"
  },
  "language_info": {
   "codemirror_mode": {
    "name": "ipython",
    "version": 3
   },
   "file_extension": ".py",
   "mimetype": "text/x-python",
   "name": "python",
   "nbconvert_exporter": "python",
   "pygments_lexer": "ipython3",
   "version": "3.6.10"
  }
 },
 "nbformat": 4,
 "nbformat_minor": 4
}
