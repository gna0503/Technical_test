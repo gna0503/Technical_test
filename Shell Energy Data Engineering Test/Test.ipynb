{
 "cells": [
  {
   "cell_type": "code",
   "execution_count": null,
   "metadata": {},
   "outputs": [],
   "source": [
    "import datetime\n",
    "import pytz"
   ]
  },
  {
   "cell_type": "code",
   "execution_count": null,
   "metadata": {},
   "outputs": [],
   "source": [
    "df_dst.LocalTime.fillna(df_dst.AESTTime, inplace=True)\n",
    "df_dst"
   ]
  },
  {
   "cell_type": "code",
   "execution_count": null,
   "metadata": {},
   "outputs": [],
   "source": [
    "# if nmi_all_info[\"State\"].isin([\"VIC\",\"NSW\"]):\n",
    "    \n",
    "    nmi_all_info.loc[((nmi_all_info[\"AESTTime\"] >= dst_start_dt)&(nmi_all_info[\"AESTTime\"] < dst_finish_dt))& ((nmi_all_info[\"State\"]==\"VIC\")|(nmi_all_info[\"State\"]==\"NSW\")),'LocalTime'] = nmi_all_info[\"AESTTime\"] + timedelta(hours=1)"
   ]
  },
  {
   "cell_type": "code",
   "execution_count": null,
   "metadata": {},
   "outputs": [],
   "source": [
    "# conver string to datetime\n",
    "# NMIA3[\"AESTTime\"] = pd.to_datetime(NMIA3[\"AESTTime\"])\n",
    "# NMIA2[\"AESTTime\"] = pd.to_datetime(NMIA2[\"AESTTime\"])\n",
    "# NMIM1[\"AESTTime\"] = pd.to_datetime(NMIM1[\"AESTTime\"])\n",
    "# NMIA1[\"AESTTime\"] = pd.to_datetime(NMIA1[\"AESTTime\"])\n",
    "# NMIS3[\"AESTTime\"] = pd.to_datetime(NMIS3[\"AESTTime\"])\n",
    "# NMIS2[\"AESTTime\"] = pd.to_datetime(NMIS2[\"AESTTime\"])\n",
    "# NMIK4[\"AESTTime\"] = pd.to_datetime(NMIK4[\"AESTTime\"])\n",
    "# NMIS1[\"AESTTime\"] = pd.to_datetime(NMIS1[\"AESTTime\"])\n",
    "# NMIR1[\"AESTTime\"] = pd.to_datetime(NMIR1[\"AESTTime\"])\n",
    "# NMIG1[\"AESTTime\"] = pd.to_datetime(NMIG1[\"AESTTime\"])\n",
    "# NMIR2[\"AESTTime\"] = pd.to_datetime(NMIR2[\"AESTTime\"])\n",
    "# NMIG2[\"AESTTime\"] = pd.to_datetime(NMIG2[\"AESTTime\"])"
   ]
  },
  {
   "cell_type": "code",
   "execution_count": null,
   "metadata": {},
   "outputs": [],
   "source": [
    "# Get the NMI list which need convert to local time\n",
    "dst_nmi_vic = \n",
    "[nmi_info['State'].isin([\"VIC\"])]\n",
    "dst_list_vic = dst_nmi_vic.Nmi\n",
    "dst_nmi_nsw = nmi_info[nmi_info['State'].isin([\"NSW\"])]\n",
    "dst_list_nsw = dst_nmi_nsw.Nmi\n",
    "print(dst_list_nsw)"
   ]
  },
  {
   "cell_type": "code",
   "execution_count": null,
   "metadata": {},
   "outputs": [],
   "source": [
    "nmi_vic = pd.concat([NMIA2,NMIA1,NMIG2,NMIA3])\n",
    "nmi_vic['State'] = 'VIC'\n",
    "nmi_nsw = pd.concat([NMIS2,NMIS3,NMIG1])\n",
    "nmi_nsw['State'] = 'NSW'\n",
    "nmi_dst = pd.concat([nmi_vic,nmi_nsw])\n",
    "nmi_dst"
   ]
  },
  {
   "cell_type": "code",
   "execution_count": null,
   "metadata": {},
   "outputs": [],
   "source": []
  },
  {
   "cell_type": "code",
   "execution_count": null,
   "metadata": {},
   "outputs": [],
   "source": []
  },
  {
   "cell_type": "markdown",
   "metadata": {},
   "source": [
    "# Convert time to local time"
   ]
  },
  {
   "cell_type": "code",
   "execution_count": null,
   "metadata": {},
   "outputs": [],
   "source": [
    "import pandas as pd\n",
    "import numpy\n",
    "from datetime import datetime\n",
    "df_nmi_s2 = pd.read_csv(\"Data/ConsumptionData/NMIS2.csv\")\n",
    "df_nmi_s2.head()"
   ]
  },
  {
   "cell_type": "code",
   "execution_count": null,
   "metadata": {},
   "outputs": [],
   "source": []
  },
  {
   "cell_type": "code",
   "execution_count": null,
   "metadata": {},
   "outputs": [],
   "source": [
    "# input year and month\n",
    "yearMonthStart = '2017-10'\n",
    "  \n",
    "# getting date of first Sunday in Oct.\n",
    "dst_start_time = numpy.busday_offset(yearMonthStart, 0, \n",
    "                           roll='forward', \n",
    "                           weekmask='Sun')\n",
    "# input year and month\n",
    "yearMonthFinish = '2018-04'\n",
    "  \n",
    "# getting date of first Sunday in Apr.\n",
    "dst_finish_time = numpy.busday_offset(yearMonthFinish, 0, \n",
    "                           roll='forward', \n",
    "                           weekmask='Sun')\n",
    "\n",
    "dst_start_dt = datetime.strptime(f'{dst_start_time}  02:00:00', '%Y-%m-%d %H:%M:%S')\n",
    "dst_finish_dt = datetime.strptime(f'{dst_finish_time}  03:00:00', '%Y-%m-%d %H:%M:%S')\n"
   ]
  },
  {
   "cell_type": "code",
   "execution_count": null,
   "metadata": {},
   "outputs": [],
   "source": [
    "from datetime import datetime, timedelta\n",
    "\n",
    "df_nmi_s2.loc[(df_nmi_s2[\"AESTTime\"] >= dst_start_dt)&(df_nmi_s2[\"AESTTime\"] < dst_finish_dt),'LocalTime'] = df_nmi_s2[\"AESTTime\"] + timedelta(hours=1)\n",
    "\n",
    "#f_nmi_s2.loc[df_nmi_s2[\"AESTTime\"] >= dst_start_dt & df_nmi_s2[\"AESTTime\"] < dst_finish_dt,'LocalTime'] = df_nmi_s2[\"AESTTime\"] + timedelta(hours=1)\n",
    "    #f_nmi_s2[\"LocalTime\"] = df_nmi_s2[\"AESTTime\"] + timedelta(hours=1)\n",
    "df_nmi_s2"
   ]
  },
  {
   "cell_type": "code",
   "execution_count": null,
   "metadata": {},
   "outputs": [],
   "source": [
    "df_nmi_s2.LocalTime.fillna(df_nmi_s2.AESTTime, inplace=True)\n",
    "df_nmi_s2"
   ]
  },
  {
   "cell_type": "code",
   "execution_count": null,
   "metadata": {},
   "outputs": [],
   "source": [
    "df_nmi_s2[\"Month\"]=pd.DatetimeIndex(df_nmi_s2[\"AESTTime\"]).month\n",
    "df_nmi_s2[\"Weekday\"]=pd.DatetimeIndex(df_nmi_s2[\"AESTTime\"]).weekday\n",
    "df_nmi_s2[\"Week\"]=pd.DatetimeIndex(df_nmi_s2[\"AESTTime\"]).week\n",
    "df_nmi_s2[\"Hour\"]=pd.DatetimeIndex(df_nmi_s2[\"AESTTime\"]).hour\n",
    "df_nmi_s2"
   ]
  },
  {
   "cell_type": "code",
   "execution_count": null,
   "metadata": {},
   "outputs": [],
   "source": [
    "If df_nmi_s2[\"Month\"]>=10 and df_nmi_s2[\"Month\"]<=4 and df_nmi_s2[\"Weekday\"]=7 and df_nmi_s2[\"Hour\"]>=2"
   ]
  },
  {
   "cell_type": "code",
   "execution_count": null,
   "metadata": {},
   "outputs": [],
   "source": [
    "df_nmi_s2.dtypes"
   ]
  },
  {
   "cell_type": "code",
   "execution_count": null,
   "metadata": {},
   "outputs": [],
   "source": [
    "# from datetime import datetime, timedelta\n",
    "# hours = 5\n",
    "# df_nmi_s2[\"AESTTime\"] = datetime.strptime(df_nmi_s2[\"AESTTime\"], '%b %d %Y %I:%M%p')\n",
    "future_time = df_nmi_s2[\"AESTTime\"] + timedelta(hours=1)\n",
    "future_time"
   ]
  },
  {
   "cell_type": "code",
   "execution_count": null,
   "metadata": {},
   "outputs": [],
   "source": []
  },
  {
   "cell_type": "markdown",
   "metadata": {},
   "source": [
    "# Read all csv files and extract name into a list."
   ]
  },
  {
   "cell_type": "code",
   "execution_count": null,
   "metadata": {},
   "outputs": [],
   "source": [
    "import os\n",
    "import pandas as pd\n",
    "#import glob\n",
    "path = \"Data/ConsumptionData/\"\n",
    "file_list = os.listdir(path)\n",
    "name_list = []\n",
    "for filename in file_list:\n",
    "    #print(filename)\n",
    "    if filename.endswith(\".csv\"):\n",
    "        #table_list.append(pd.read_csv(filename,sep=\"|\"))\n",
    "        name_list.append(os.path.splitext(filename)[0])\n",
    "print(name_list)\n",
    "len(name_list)"
   ]
  },
  {
   "cell_type": "code",
   "execution_count": null,
   "metadata": {},
   "outputs": [],
   "source": [
    "NMIA3 = pd.read_csv(path + \"NMIA3\" + \".csv\")\n",
    "NMIA2 = pd.read_csv(path + \"NMIA2\" + \".csv\")\n",
    "NMIM1 = pd.read_csv(path + \"NMIM1\" + \".csv\")\n",
    "NMIA1 = pd.read_csv(path + \"NMIA1\" + \".csv\")\n",
    "NMIS3 = pd.read_csv(path + \"NMIS3\" + \".csv\")\n",
    "NMIS2 = pd.read_csv(path + \"NMIS2\" + \".csv\")\n",
    "NMIK4 = pd.read_csv(path + \"NMIK4\" + \".csv\")\n",
    "NMIS1 = pd.read_csv(path + \"NMIS1\" + \".csv\")\n",
    "NMIR1 = pd.read_csv(path + \"NMIR1\" + \".csv\")\n",
    "NMIG1 = pd.read_csv(path + \"NMIG1\" + \".csv\")\n",
    "NMIR2 = pd.read_csv(path + \"NMIR2\" + \".csv\")\n",
    "NMIG2 = pd.read_csv(path + \"NMIG2\" + \".csv\")\n",
    "NMIM1.head()"
   ]
  },
  {
   "cell_type": "code",
   "execution_count": null,
   "metadata": {},
   "outputs": [],
   "source": [
    "nmi_info = pd.read_csv(\"Data/nmi_info.csv\")\n",
    "nmi_info.head()"
   ]
  },
  {
   "cell_type": "code",
   "execution_count": null,
   "metadata": {},
   "outputs": [],
   "source": [
    "# Get the NMI list which need convert to local time\n",
    "dst_nmi = nmi_info[nmi_info['State'].isin([\"VIC\", \"NSW\"])]\n",
    "dst_nmi.Nmi"
   ]
  },
  {
   "cell_type": "code",
   "execution_count": null,
   "metadata": {},
   "outputs": [],
   "source": []
  },
  {
   "cell_type": "code",
   "execution_count": null,
   "metadata": {},
   "outputs": [],
   "source": []
  },
  {
   "cell_type": "code",
   "execution_count": null,
   "metadata": {},
   "outputs": [],
   "source": []
  },
  {
   "cell_type": "code",
   "execution_count": null,
   "metadata": {},
   "outputs": [],
   "source": []
  },
  {
   "cell_type": "code",
   "execution_count": null,
   "metadata": {},
   "outputs": [],
   "source": []
  },
  {
   "cell_type": "code",
   "execution_count": null,
   "metadata": {},
   "outputs": [],
   "source": []
  },
  {
   "cell_type": "code",
   "execution_count": null,
   "metadata": {},
   "outputs": [],
   "source": [
    "if isinstance(NMIA3, pd.DataFrame):\n",
    "    "
   ]
  },
  {
   "cell_type": "code",
   "execution_count": null,
   "metadata": {},
   "outputs": [],
   "source": [
    "# Grab file path with glob\n",
    "import glob\n",
    "path = \"Data/ConsumptionData/\"\n",
    "all_files = glob.glob(path + \"/*.csv\")\n",
    "all_files"
   ]
  },
  {
   "cell_type": "code",
   "execution_count": null,
   "metadata": {},
   "outputs": [],
   "source": [
    "li = []\n",
    "for filename in all_files:\n",
    "    df = pd.read_csv(filename, index_col=None, header=0)\n",
    "    li.append(df)\n",
    "li"
   ]
  },
  {
   "cell_type": "code",
   "execution_count": null,
   "metadata": {},
   "outputs": [],
   "source": [
    "df = pd.concat(li, axis=0, ignore_index = True)\n",
    "df"
   ]
  },
  {
   "cell_type": "code",
   "execution_count": null,
   "metadata": {},
   "outputs": [],
   "source": []
  },
  {
   "cell_type": "code",
   "execution_count": null,
   "metadata": {},
   "outputs": [],
   "source": []
  },
  {
   "cell_type": "code",
   "execution_count": null,
   "metadata": {},
   "outputs": [],
   "source": [
    "df_nmi = pd.read_csv(\"Data/nmi_info.csv\")\n",
    "df_nmi.head()"
   ]
  },
  {
   "cell_type": "code",
   "execution_count": null,
   "metadata": {},
   "outputs": [],
   "source": [
    "import pandas as pd\n",
    "#thismodule = sys.modules[__name__]\n",
    "nmi = [\"NMIA1\", \"NMIA2\", \"NMIA3\", \"NMIG1\", \"NMIG2\", \"NMIK4\", \"NMIM1\", \"NMIR1\", \"NMIR2\", \"NMIS1\", \"NMIS2\", \"NMIS3\"]\n",
    "for m in nmi:\n",
    "    #df_x = f'NMI{m}'\n",
    "    #setattr(thismodule, i,df[df.names==m])\n",
    "    exec('%s = pd.DataFrame()' %m)\n",
    "    m= pd.read_csv(f'Data/ConsumptionData/{m}'.csv)\n",
    "    #f'NMI{m}' = pd.read_csv(f'Data/ConsumptionData/NMI{m}'.csv)"
   ]
  },
  {
   "cell_type": "code",
   "execution_count": null,
   "metadata": {},
   "outputs": [],
   "source": [
    "df_nmi_s2[\"Month\"]=pd.DatetimeIndex(df_nmi_s2[\"AESTTime\"]).month\n",
    "df_nmi_s2[\"Weekday\"]=pd.DatetimeIndex(df_nmi_s2[\"AESTTime\"]).weekday\n",
    "df_nmi_s2[\"Week\"]=pd.DatetimeIndex(df_nmi_s2[\"AESTTime\"]).week\n",
    "df_nmi_s2[\"Hour\"]=pd.DatetimeIndex(df_nmi_s2[\"AESTTime\"]).hour\n",
    "df_nmi_s2"
   ]
  },
  {
   "cell_type": "code",
   "execution_count": null,
   "metadata": {},
   "outputs": [],
   "source": [
    "If df_nmi_s2[\"Month\"]>=10 and df_nmi_s2[\"Month\"]<=4 and df_nmi_s2[\"Weekday\"]=7 and df_nmi_s2[\"Hour\"]>=2"
   ]
  },
  {
   "cell_type": "code",
   "execution_count": null,
   "metadata": {},
   "outputs": [],
   "source": [
    "df_nmi_s2.dtypes"
   ]
  },
  {
   "cell_type": "code",
   "execution_count": null,
   "metadata": {},
   "outputs": [],
   "source": [
    "# from datetime import datetime, timedelta\n",
    "# hours = 5\n",
    "# df_nmi_s2[\"AESTTime\"] = datetime.strptime(df_nmi_s2[\"AESTTime\"], '%b %d %Y %I:%M%p')\n",
    "future_time = df_nmi_s2[\"AESTTime\"] + timedelta(hours=1)\n",
    "future_time"
   ]
  },
  {
   "cell_type": "code",
   "execution_count": null,
   "metadata": {},
   "outputs": [],
   "source": [
    "df_dst[df_dst.LocalTime.isnull()]"
   ]
  },
  {
   "cell_type": "code",
   "execution_count": null,
   "metadata": {},
   "outputs": [],
   "source": []
  },
  {
   "cell_type": "code",
   "execution_count": null,
   "metadata": {},
   "outputs": [],
   "source": []
  },
  {
   "cell_type": "code",
   "execution_count": 1,
   "metadata": {},
   "outputs": [
    {
     "name": "stdout",
     "output_type": "stream",
     "text": [
      "['NMIA3', 'NMIA2', 'NMIM1', 'NMIA1', 'NMIS3', 'NMIS2', 'NMIK4', 'NMIS1', 'NMIR1', 'NMIG1', 'NMIR2', 'NMIG2']\n"
     ]
    },
    {
     "data": {
      "text/plain": [
       "12"
      ]
     },
     "execution_count": 1,
     "metadata": {},
     "output_type": "execute_result"
    }
   ],
   "source": [
    "import os\n",
    "import pandas as pd\n",
    "#import glob\n",
    "path = \"Data/ConsumptionData/\"\n",
    "file_list = os.listdir(path)\n",
    "name_list = []\n",
    "for filename in file_list:\n",
    "    #print(filename)\n",
    "    if filename.endswith(\".csv\"):\n",
    "        #table_list.append(pd.read_csv(filename,sep=\"|\"))\n",
    "        name_list.append(os.path.splitext(filename)[0])\n",
    "print(name_list)\n",
    "len(name_list)"
   ]
  },
  {
   "cell_type": "code",
   "execution_count": 11,
   "metadata": {},
   "outputs": [
    {
     "ename": "SyntaxError",
     "evalue": "can't assign to literal (<ipython-input-11-675f3c4c79c9>, line 2)",
     "output_type": "error",
     "traceback": [
      "\u001b[0;36m  File \u001b[0;32m\"<ipython-input-11-675f3c4c79c9>\"\u001b[0;36m, line \u001b[0;32m2\u001b[0m\n\u001b[0;31m    {name} = pd.read_csv(path + name + \".csv\")\u001b[0m\n\u001b[0m    ^\u001b[0m\n\u001b[0;31mSyntaxError\u001b[0m\u001b[0;31m:\u001b[0m can't assign to literal\n"
     ]
    }
   ],
   "source": [
    "for name in name_list:\n",
    "    name = pd.read_csv(path + name + \".csv\")\n",
    "    #print(name)"
   ]
  },
  {
   "cell_type": "code",
   "execution_count": null,
   "metadata": {},
   "outputs": [],
   "source": [
    "table_list = []\n",
    "new_table_list = []\n",
    "\n",
    "for filename in :\n",
    "    if filename.endswith(\".csv\"):\n",
    "        table_list.append(pd.read_csv(filename,sep=\"|\"))\n",
    "        #new_table_list.append(filename.split(\".\")[0])\n",
    "        new_table_list.append(filename[:-4])"
   ]
  },
  {
   "cell_type": "code",
   "execution_count": null,
   "metadata": {},
   "outputs": [],
   "source": []
  },
  {
   "cell_type": "code",
   "execution_count": null,
   "metadata": {},
   "outputs": [],
   "source": []
  },
  {
   "cell_type": "code",
   "execution_count": null,
   "metadata": {},
   "outputs": [],
   "source": []
  },
  {
   "cell_type": "code",
   "execution_count": null,
   "metadata": {},
   "outputs": [],
   "source": []
  },
  {
   "cell_type": "code",
   "execution_count": null,
   "metadata": {},
   "outputs": [],
   "source": [
    "now = datetime.now()\n",
    "from_zone = tz.gettz('UTC')\n",
    "to_zone = tz.gettz('Australia/Sydney')\n",
    "utc = utc.replace(tzinfo=from_zone)\n",
    "central = utc.astimezone(to_zone)"
   ]
  },
  {
   "cell_type": "code",
   "execution_count": null,
   "metadata": {},
   "outputs": [],
   "source": [
    "UTC_datetime = datetime.datetime.utcnow()\n",
    "print(UTC_datetime)"
   ]
  },
  {
   "cell_type": "code",
   "execution_count": null,
   "metadata": {},
   "outputs": [],
   "source": [
    "UTC_datetime_timestamp = float(UTC_datetime.strftime(\"%s\"))\n",
    "print(UTC_datetime_timestamp)\n"
   ]
  },
  {
   "cell_type": "code",
   "execution_count": null,
   "metadata": {},
   "outputs": [],
   "source": [
    "local_datetime_converted = datetime.datetime.fromtimestamp(UTC_datetime_timestamp)\n",
    "print(local_datetime_converted)"
   ]
  },
  {
   "cell_type": "code",
   "execution_count": null,
   "metadata": {},
   "outputs": [],
   "source": [
    "# Now let’s take a look at converting a local Sydney time to UTC.\n",
    "dt = datetime.datetime(2022, 6, 13, 13, 3)\n",
    "print(dt)\n",
    "local_tz = pytz.timezone('Australia/Sydney')\n",
    "utc = local_tz.localize(dt)\n",
    "print(utc)"
   ]
  },
  {
   "cell_type": "code",
   "execution_count": null,
   "metadata": {},
   "outputs": [],
   "source": [
    "time_format = '%Y-%m-%d %H:%M:%S'\n",
    "local_time = utc.strftime(time_format)\n",
    "print(local_time)"
   ]
  },
  {
   "cell_type": "code",
   "execution_count": null,
   "metadata": {},
   "outputs": [],
   "source": []
  },
  {
   "cell_type": "code",
   "execution_count": null,
   "metadata": {},
   "outputs": [],
   "source": [
    "hours = 10\n",
    "new = dt + f'{hours}'\n",
    "print(new)"
   ]
  },
  {
   "cell_type": "code",
   "execution_count": null,
   "metadata": {},
   "outputs": [],
   "source": []
  },
  {
   "cell_type": "code",
   "execution_count": null,
   "metadata": {},
   "outputs": [],
   "source": [
    "# Now let’s take a look at converting a local Sydney time to UTC.\n",
    "dt = datetime.datetime(2022, 6, 12, 0, 30)\n",
    "print(dt)\n",
    "local_tz = pytz.timezone('Australia/Sydney')\n",
    "utc = local_tz.localize(dt)\n",
    "print(utc)"
   ]
  },
  {
   "cell_type": "code",
   "execution_count": null,
   "metadata": {},
   "outputs": [],
   "source": [
    "from_zone = tz.gettz('UTC')\n",
    "to_zone = tz.gettz('Australia/Sydney')\n",
    "utc = datetime.strptime('2011-01-21 02:37:21', '%Y-%m-%d %H:%M:%S')"
   ]
  },
  {
   "cell_type": "code",
   "execution_count": null,
   "metadata": {},
   "outputs": [],
   "source": [
    "from_zone = tz.gettz('UTC')\n",
    "to_zone = tz.gettz('Australia/Sydney')\n",
    "utc = utc.replace(tzinfo=from_zone)\n",
    "central = utc.astimezone(to_zone)"
   ]
  },
  {
   "cell_type": "code",
   "execution_count": null,
   "metadata": {},
   "outputs": [],
   "source": []
  },
  {
   "cell_type": "code",
   "execution_count": null,
   "metadata": {},
   "outputs": [],
   "source": [
    "from datetime import datetime\n",
    "from dateutil import tz\n",
    "\n",
    "# METHOD 1: Hardcode zones:\n",
    "from_zone = tz.gettz('UTC')\n",
    "to_zone = tz.gettz('America/New_York')"
   ]
  },
  {
   "cell_type": "code",
   "execution_count": null,
   "metadata": {},
   "outputs": [],
   "source": [
    "#utc = datetime.utcnow()\n",
    "utc = datetime.strptime('2011-01-21 02:37:21', '%Y-%m-%d %H:%M:%S')\n",
    "print(utc)"
   ]
  },
  {
   "cell_type": "code",
   "execution_count": null,
   "metadata": {},
   "outputs": [],
   "source": [
    "# Tell the datetime object that it's in UTC time zone since \n",
    "# datetime objects are 'naive' by default\n",
    "utc = utc.replace(tzinfo=from_zone)"
   ]
  },
  {
   "cell_type": "code",
   "execution_count": null,
   "metadata": {},
   "outputs": [],
   "source": [
    "# Convert time zone\n",
    "central = utc.astimezone(to_zone)"
   ]
  },
  {
   "cell_type": "code",
   "execution_count": null,
   "metadata": {},
   "outputs": [],
   "source": []
  },
  {
   "cell_type": "code",
   "execution_count": null,
   "metadata": {},
   "outputs": [],
   "source": [
    "print(central)"
   ]
  },
  {
   "cell_type": "code",
   "execution_count": null,
   "metadata": {},
   "outputs": [],
   "source": [
    "#utc_datetime = datetime.datetime(2020, 1, 1, 10, 0, 0, 0, tzinfo=datetime.timezone.utc)\n",
    "\n",
    "local_timezone = pytz.timezone(\"Australia/Sydney\")\n",
    "local_datetime = utc_datetime.replace(tzinfo=pytz.utc)\n",
    "#Convert the naive `utc_datetime` to an aware datetime\n",
    "\n",
    "\n",
    "local_datetime = local_datetime.astimezone(local_timezone)\n",
    "print(local_datetime)"
   ]
  },
  {
   "cell_type": "code",
   "execution_count": null,
   "metadata": {},
   "outputs": [],
   "source": []
  },
  {
   "cell_type": "code",
   "execution_count": null,
   "metadata": {},
   "outputs": [],
   "source": [
    "df_nmi_a1 = pd.read_csv(\"Data/ConsumptionData/NMIA1.csv\")\n",
    "df_nmi_a1.head()"
   ]
  },
  {
   "cell_type": "code",
   "execution_count": null,
   "metadata": {},
   "outputs": [],
   "source": []
  },
  {
   "cell_type": "code",
   "execution_count": null,
   "metadata": {},
   "outputs": [],
   "source": []
  },
  {
   "cell_type": "code",
   "execution_count": null,
   "metadata": {},
   "outputs": [],
   "source": [
    "local_tz = pytz.timezone('Australia/Melbourne')\n",
    "dt = local_tz.localize(dt)\n",
    "print(dt)"
   ]
  },
  {
   "cell_type": "code",
   "execution_count": null,
   "metadata": {},
   "outputs": [],
   "source": []
  },
  {
   "cell_type": "code",
   "execution_count": null,
   "metadata": {},
   "outputs": [],
   "source": []
  },
  {
   "cell_type": "code",
   "execution_count": null,
   "metadata": {},
   "outputs": [],
   "source": [
    "local_tz = pytz.timezone('Australia/Perth')\n",
    "dt = local_tz.localtime(dt)\n",
    "print(dt)"
   ]
  },
  {
   "cell_type": "code",
   "execution_count": null,
   "metadata": {},
   "outputs": [],
   "source": []
  },
  {
   "cell_type": "code",
   "execution_count": null,
   "metadata": {},
   "outputs": [],
   "source": []
  },
  {
   "cell_type": "code",
   "execution_count": null,
   "metadata": {},
   "outputs": [],
   "source": [
    "# convert a datetime to a date and add one column AESTDate\n",
    "df_nmi_a1[\"AESTDate\"]=pd.to_datetime(df_nmi_a1[\"AESTTime\"]).dt.date\n",
    "df_nmi_a1.head()"
   ]
  },
  {
   "cell_type": "markdown",
   "metadata": {},
   "source": [
    "# DST time for VIC and NSW"
   ]
  },
  {
   "cell_type": "code",
   "execution_count": null,
   "metadata": {},
   "outputs": [],
   "source": [
    "\n",
    "# import module\n",
    "import numpy\n",
    "from datetime import datetime\n",
    "  \n",
    "# input year and month\n",
    "yearMonthStart = '2017-10'\n",
    "  \n",
    "# getting date of first monday\n",
    "dst_start_time = numpy.busday_offset(yearMonthStart, 0, \n",
    "                           roll='forward', \n",
    "                           weekmask='Sun')\n",
    "# input year and month\n",
    "yearMonthFinish = '2018-04'\n",
    "  \n",
    "# getting date of first monday\n",
    "dst_finish_time = numpy.busday_offset(yearMonthFinish, 0, \n",
    "                           roll='forward', \n",
    "                           weekmask='Sun')\n",
    "\n",
    "dst_start_dt = datetime.strptime(f'{dst_start_time}  02:00:00', '%Y-%m-%d %H:%M:%S')\n",
    "dst_finish_dt = datetime.strptime(f'{dst_finish_time}  03:00:00', '%Y-%m-%d %H:%M:%S')\n",
    "print(dst_start_dt)\n",
    "type(dst_start_dt)\n",
    "print(dst_finish_dt)\n",
    "type(dst_finish_dt)\n",
    "  \n",
    "# display date\n",
    "print(dst_start_time)\n",
    "print(dst_finish_time)"
   ]
  },
  {
   "cell_type": "code",
   "execution_count": null,
   "metadata": {},
   "outputs": [],
   "source": [
    "\n",
    "\n",
    "dst_start_dt = datetime.strptime(f'{dst_start_time}  02:00:00', '%Y-%m-%d %H:%M:%S')\n",
    "dst_finish_dt = datetime.strptime(f'{dst_finish_time}  03:00:00', '%Y-%m-%d %H:%M:%S')\n",
    "print(dst_start_dt)\n",
    "type(dst_start_dt)\n",
    "print(dst_finish_dt)\n",
    "type(dst_finish_dt)"
   ]
  },
  {
   "cell_type": "code",
   "execution_count": null,
   "metadata": {},
   "outputs": [],
   "source": []
  },
  {
   "cell_type": "code",
   "execution_count": null,
   "metadata": {},
   "outputs": [],
   "source": []
  },
  {
   "cell_type": "code",
   "execution_count": null,
   "metadata": {},
   "outputs": [],
   "source": [
    "dst_finish_time.dtypes"
   ]
  },
  {
   "cell_type": "code",
   "execution_count": null,
   "metadata": {},
   "outputs": [],
   "source": []
  },
  {
   "cell_type": "code",
   "execution_count": null,
   "metadata": {},
   "outputs": [],
   "source": []
  },
  {
   "cell_type": "code",
   "execution_count": null,
   "metadata": {},
   "outputs": [],
   "source": [
    "import pandas as pd\n",
    "df_nmi_s2 = pd.read_csv(\"Data/ConsumptionData/NMIS2.csv\")\n",
    "df_nmi_s2.head()"
   ]
  },
  {
   "cell_type": "code",
   "execution_count": null,
   "metadata": {},
   "outputs": [],
   "source": []
  },
  {
   "cell_type": "code",
   "execution_count": null,
   "metadata": {},
   "outputs": [],
   "source": []
  },
  {
   "cell_type": "code",
   "execution_count": null,
   "metadata": {},
   "outputs": [],
   "source": []
  },
  {
   "cell_type": "code",
   "execution_count": null,
   "metadata": {},
   "outputs": [],
   "source": []
  }
 ],
 "metadata": {
  "kernelspec": {
   "display_name": "Python 3 (ipykernel)",
   "language": "python",
   "name": "python3"
  },
  "language_info": {
   "codemirror_mode": {
    "name": "ipython",
    "version": 3
   },
   "file_extension": ".py",
   "mimetype": "text/x-python",
   "name": "python",
   "nbconvert_exporter": "python",
   "pygments_lexer": "ipython3",
   "version": "3.8.3"
  }
 },
 "nbformat": 4,
 "nbformat_minor": 4
}
